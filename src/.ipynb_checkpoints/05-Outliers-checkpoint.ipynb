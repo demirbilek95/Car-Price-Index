{
 "cells": [
  {
   "cell_type": "code",
   "execution_count": 1,
   "metadata": {},
   "outputs": [],
   "source": [
    "import numpy as np\n",
    "import pandas as pd\n",
    "import matplotlib.pyplot as plt\n",
    "%matplotlib inline\n",
    "import seaborn as sns"
   ]
  },
  {
   "cell_type": "code",
   "execution_count": 4,
   "metadata": {
    "scrolled": true
   },
   "outputs": [
    {
     "data": {
      "text/html": [
       "<div>\n",
       "<style scoped>\n",
       "    .dataframe tbody tr th:only-of-type {\n",
       "        vertical-align: middle;\n",
       "    }\n",
       "\n",
       "    .dataframe tbody tr th {\n",
       "        vertical-align: top;\n",
       "    }\n",
       "\n",
       "    .dataframe thead th {\n",
       "        text-align: right;\n",
       "    }\n",
       "</style>\n",
       "<table border=\"1\" class=\"dataframe\">\n",
       "  <thead>\n",
       "    <tr style=\"text-align: right;\">\n",
       "      <th></th>\n",
       "      <th>Unnamed: 0</th>\n",
       "      <th>il</th>\n",
       "      <th>fiyat</th>\n",
       "      <th>marka</th>\n",
       "      <th>seri</th>\n",
       "      <th>model</th>\n",
       "      <th>yil</th>\n",
       "      <th>yakit</th>\n",
       "      <th>vites</th>\n",
       "      <th>km</th>\n",
       "      <th>...</th>\n",
       "      <th>motor_hacmi_cc</th>\n",
       "      <th>cekis</th>\n",
       "      <th>renk</th>\n",
       "      <th>garanti</th>\n",
       "      <th>plaka_uyruk</th>\n",
       "      <th>kimden</th>\n",
       "      <th>takas</th>\n",
       "      <th>durumu</th>\n",
       "      <th>submodel1</th>\n",
       "      <th>submodel2</th>\n",
       "    </tr>\n",
       "  </thead>\n",
       "  <tbody>\n",
       "    <tr>\n",
       "      <th>0</th>\n",
       "      <td>0</td>\n",
       "      <td>Konya</td>\n",
       "      <td>72500.0</td>\n",
       "      <td>Audi</td>\n",
       "      <td>A6</td>\n",
       "      <td>A6 Sedan 2.0 TDI</td>\n",
       "      <td>2006</td>\n",
       "      <td>Dizel</td>\n",
       "      <td>Manuel</td>\n",
       "      <td>154000</td>\n",
       "      <td>...</td>\n",
       "      <td>1968</td>\n",
       "      <td>Önden</td>\n",
       "      <td>Gri</td>\n",
       "      <td>0</td>\n",
       "      <td>Türkiye (TR) Plakalı</td>\n",
       "      <td>Galeriden</td>\n",
       "      <td>1</td>\n",
       "      <td>İkinci El</td>\n",
       "      <td>NaN</td>\n",
       "      <td>NaN</td>\n",
       "    </tr>\n",
       "    <tr>\n",
       "      <th>1</th>\n",
       "      <td>1</td>\n",
       "      <td>İzmir</td>\n",
       "      <td>117500.0</td>\n",
       "      <td>Audi</td>\n",
       "      <td>A4</td>\n",
       "      <td>A4 Sedan 2.0 TDI</td>\n",
       "      <td>2013</td>\n",
       "      <td>Dizel</td>\n",
       "      <td>Yarı Otomatik</td>\n",
       "      <td>130000</td>\n",
       "      <td>...</td>\n",
       "      <td>1968</td>\n",
       "      <td>Önden</td>\n",
       "      <td>Beyaz</td>\n",
       "      <td>1</td>\n",
       "      <td>Türkiye (TR) Plakalı</td>\n",
       "      <td>Galeriden</td>\n",
       "      <td>1</td>\n",
       "      <td>İkinci El</td>\n",
       "      <td>NaN</td>\n",
       "      <td>NaN</td>\n",
       "    </tr>\n",
       "    <tr>\n",
       "      <th>2</th>\n",
       "      <td>2</td>\n",
       "      <td>İstanbul</td>\n",
       "      <td>249500.0</td>\n",
       "      <td>Audi</td>\n",
       "      <td>A6</td>\n",
       "      <td>A6 Sedan 3.0 TDI Quattro</td>\n",
       "      <td>2014</td>\n",
       "      <td>Dizel</td>\n",
       "      <td>Yarı Otomatik</td>\n",
       "      <td>125000</td>\n",
       "      <td>...</td>\n",
       "      <td>2967</td>\n",
       "      <td>4WD</td>\n",
       "      <td>Siyah</td>\n",
       "      <td>0</td>\n",
       "      <td>Türkiye (TR) Plakalı</td>\n",
       "      <td>Galeriden</td>\n",
       "      <td>1</td>\n",
       "      <td>İkinci El</td>\n",
       "      <td>NaN</td>\n",
       "      <td>NaN</td>\n",
       "    </tr>\n",
       "    <tr>\n",
       "      <th>3</th>\n",
       "      <td>3</td>\n",
       "      <td>Muğla</td>\n",
       "      <td>92500.0</td>\n",
       "      <td>Audi</td>\n",
       "      <td>A4</td>\n",
       "      <td>A4 Sedan</td>\n",
       "      <td>2011</td>\n",
       "      <td>Benzin</td>\n",
       "      <td>Yarı Otomatik</td>\n",
       "      <td>81000</td>\n",
       "      <td>...</td>\n",
       "      <td>1798</td>\n",
       "      <td>Önden</td>\n",
       "      <td>Siyah</td>\n",
       "      <td>0</td>\n",
       "      <td>Türkiye (TR) Plakalı</td>\n",
       "      <td>Sahibinden</td>\n",
       "      <td>0</td>\n",
       "      <td>İkinci El</td>\n",
       "      <td>NaN</td>\n",
       "      <td>NaN</td>\n",
       "    </tr>\n",
       "    <tr>\n",
       "      <th>4</th>\n",
       "      <td>4</td>\n",
       "      <td>Afyonkarahisar</td>\n",
       "      <td>47000.0</td>\n",
       "      <td>Audi</td>\n",
       "      <td>A6</td>\n",
       "      <td>A6 Sedan 2.5 TDI Quattro</td>\n",
       "      <td>2003</td>\n",
       "      <td>Dizel</td>\n",
       "      <td>Yarı Otomatik</td>\n",
       "      <td>205500</td>\n",
       "      <td>...</td>\n",
       "      <td>2001</td>\n",
       "      <td>4WD</td>\n",
       "      <td>Gri</td>\n",
       "      <td>0</td>\n",
       "      <td>Türkiye (TR) Plakalı</td>\n",
       "      <td>Sahibinden</td>\n",
       "      <td>0</td>\n",
       "      <td>İkinci El</td>\n",
       "      <td>NaN</td>\n",
       "      <td>NaN</td>\n",
       "    </tr>\n",
       "    <tr>\n",
       "      <th>5</th>\n",
       "      <td>5</td>\n",
       "      <td>İstanbul</td>\n",
       "      <td>53750.0</td>\n",
       "      <td>Audi</td>\n",
       "      <td>A4</td>\n",
       "      <td>A4 Sedan 1.6</td>\n",
       "      <td>2008</td>\n",
       "      <td>Benzin &amp; LPG</td>\n",
       "      <td>Manuel</td>\n",
       "      <td>216000</td>\n",
       "      <td>...</td>\n",
       "      <td>1595</td>\n",
       "      <td>Önden</td>\n",
       "      <td>Siyah</td>\n",
       "      <td>0</td>\n",
       "      <td>Türkiye (TR) Plakalı</td>\n",
       "      <td>Sahibinden</td>\n",
       "      <td>1</td>\n",
       "      <td>İkinci El</td>\n",
       "      <td>NaN</td>\n",
       "      <td>NaN</td>\n",
       "    </tr>\n",
       "    <tr>\n",
       "      <th>6</th>\n",
       "      <td>6</td>\n",
       "      <td>İstanbul</td>\n",
       "      <td>55000.0</td>\n",
       "      <td>Audi</td>\n",
       "      <td>A4</td>\n",
       "      <td>A4 Sedan</td>\n",
       "      <td>2005</td>\n",
       "      <td>Benzin &amp; LPG</td>\n",
       "      <td>Yarı Otomatik</td>\n",
       "      <td>115250</td>\n",
       "      <td>...</td>\n",
       "      <td>1984</td>\n",
       "      <td>Önden</td>\n",
       "      <td>Mavi</td>\n",
       "      <td>0</td>\n",
       "      <td>Türkiye (TR) Plakalı</td>\n",
       "      <td>Sahibinden</td>\n",
       "      <td>0</td>\n",
       "      <td>İkinci El</td>\n",
       "      <td>NaN</td>\n",
       "      <td>NaN</td>\n",
       "    </tr>\n",
       "    <tr>\n",
       "      <th>7</th>\n",
       "      <td>7</td>\n",
       "      <td>Muğla</td>\n",
       "      <td>74000.0</td>\n",
       "      <td>Audi</td>\n",
       "      <td>A4</td>\n",
       "      <td>A4 Sedan</td>\n",
       "      <td>2009</td>\n",
       "      <td>Benzin</td>\n",
       "      <td>Yarı Otomatik</td>\n",
       "      <td>100000</td>\n",
       "      <td>...</td>\n",
       "      <td>1798</td>\n",
       "      <td>Önden</td>\n",
       "      <td>Lacivert</td>\n",
       "      <td>0</td>\n",
       "      <td>Türkiye (TR) Plakalı</td>\n",
       "      <td>Sahibinden</td>\n",
       "      <td>0</td>\n",
       "      <td>İkinci El</td>\n",
       "      <td>NaN</td>\n",
       "      <td>NaN</td>\n",
       "    </tr>\n",
       "    <tr>\n",
       "      <th>8</th>\n",
       "      <td>8</td>\n",
       "      <td>Hatay</td>\n",
       "      <td>220000.0</td>\n",
       "      <td>Audi</td>\n",
       "      <td>A6</td>\n",
       "      <td>A6 Sedan 2.0 TDI</td>\n",
       "      <td>2013</td>\n",
       "      <td>Dizel</td>\n",
       "      <td>Yarı Otomatik</td>\n",
       "      <td>128500</td>\n",
       "      <td>...</td>\n",
       "      <td>1801</td>\n",
       "      <td>Önden</td>\n",
       "      <td>Beyaz</td>\n",
       "      <td>0</td>\n",
       "      <td>Türkiye (TR) Plakalı</td>\n",
       "      <td>Sahibinden</td>\n",
       "      <td>1</td>\n",
       "      <td>İkinci El</td>\n",
       "      <td>NaN</td>\n",
       "      <td>NaN</td>\n",
       "    </tr>\n",
       "    <tr>\n",
       "      <th>9</th>\n",
       "      <td>9</td>\n",
       "      <td>Eskişehir</td>\n",
       "      <td>260000.0</td>\n",
       "      <td>Audi</td>\n",
       "      <td>A6</td>\n",
       "      <td>A6 Sedan 2.0 TDI</td>\n",
       "      <td>2015</td>\n",
       "      <td>Dizel</td>\n",
       "      <td>Yarı Otomatik</td>\n",
       "      <td>70000</td>\n",
       "      <td>...</td>\n",
       "      <td>1968</td>\n",
       "      <td>Önden</td>\n",
       "      <td>Beyaz</td>\n",
       "      <td>0</td>\n",
       "      <td>Türkiye (TR) Plakalı</td>\n",
       "      <td>Sahibinden</td>\n",
       "      <td>1</td>\n",
       "      <td>İkinci El</td>\n",
       "      <td>NaN</td>\n",
       "      <td>NaN</td>\n",
       "    </tr>\n",
       "  </tbody>\n",
       "</table>\n",
       "<p>10 rows × 22 columns</p>\n",
       "</div>"
      ],
      "text/plain": [
       "   Unnamed: 0              il     fiyat marka seri                     model  \\\n",
       "0           0           Konya   72500.0  Audi   A6          A6 Sedan 2.0 TDI   \n",
       "1           1           İzmir  117500.0  Audi   A4          A4 Sedan 2.0 TDI   \n",
       "2           2        İstanbul  249500.0  Audi   A6  A6 Sedan 3.0 TDI Quattro   \n",
       "3           3           Muğla   92500.0  Audi   A4                  A4 Sedan   \n",
       "4           4  Afyonkarahisar   47000.0  Audi   A6  A6 Sedan 2.5 TDI Quattro   \n",
       "5           5        İstanbul   53750.0  Audi   A4              A4 Sedan 1.6   \n",
       "6           6        İstanbul   55000.0  Audi   A4                  A4 Sedan   \n",
       "7           7           Muğla   74000.0  Audi   A4                  A4 Sedan   \n",
       "8           8           Hatay  220000.0  Audi   A6          A6 Sedan 2.0 TDI   \n",
       "9           9       Eskişehir  260000.0  Audi   A6          A6 Sedan 2.0 TDI   \n",
       "\n",
       "    yil         yakit          vites      km  ... motor_hacmi_cc  cekis  \\\n",
       "0  2006         Dizel         Manuel  154000  ...           1968  Önden   \n",
       "1  2013         Dizel  Yarı Otomatik  130000  ...           1968  Önden   \n",
       "2  2014         Dizel  Yarı Otomatik  125000  ...           2967    4WD   \n",
       "3  2011        Benzin  Yarı Otomatik   81000  ...           1798  Önden   \n",
       "4  2003         Dizel  Yarı Otomatik  205500  ...           2001    4WD   \n",
       "5  2008  Benzin & LPG         Manuel  216000  ...           1595  Önden   \n",
       "6  2005  Benzin & LPG  Yarı Otomatik  115250  ...           1984  Önden   \n",
       "7  2009        Benzin  Yarı Otomatik  100000  ...           1798  Önden   \n",
       "8  2013         Dizel  Yarı Otomatik  128500  ...           1801  Önden   \n",
       "9  2015         Dizel  Yarı Otomatik   70000  ...           1968  Önden   \n",
       "\n",
       "       renk garanti           plaka_uyruk      kimden takas      durumu  \\\n",
       "0       Gri       0  Türkiye (TR) Plakalı   Galeriden     1  İkinci El    \n",
       "1     Beyaz       1  Türkiye (TR) Plakalı   Galeriden     1  İkinci El    \n",
       "2     Siyah       0  Türkiye (TR) Plakalı   Galeriden     1  İkinci El    \n",
       "3     Siyah       0  Türkiye (TR) Plakalı  Sahibinden     0  İkinci El    \n",
       "4       Gri       0  Türkiye (TR) Plakalı  Sahibinden     0  İkinci El    \n",
       "5     Siyah       0  Türkiye (TR) Plakalı  Sahibinden     1  İkinci El    \n",
       "6      Mavi       0  Türkiye (TR) Plakalı  Sahibinden     0  İkinci El    \n",
       "7  Lacivert       0  Türkiye (TR) Plakalı  Sahibinden     0  İkinci El    \n",
       "8     Beyaz       0  Türkiye (TR) Plakalı  Sahibinden     1  İkinci El    \n",
       "9     Beyaz       0  Türkiye (TR) Plakalı  Sahibinden     1  İkinci El    \n",
       "\n",
       "   submodel1 submodel2  \n",
       "0        NaN       NaN  \n",
       "1        NaN       NaN  \n",
       "2        NaN       NaN  \n",
       "3        NaN       NaN  \n",
       "4        NaN       NaN  \n",
       "5        NaN       NaN  \n",
       "6        NaN       NaN  \n",
       "7        NaN       NaN  \n",
       "8        NaN       NaN  \n",
       "9        NaN       NaN  \n",
       "\n",
       "[10 rows x 22 columns]"
      ]
     },
     "execution_count": 4,
     "metadata": {},
     "output_type": "execute_result"
    }
   ],
   "source": [
    "data = pd.read_excel('../data/data_merged_columns_filtered.xlsx')\n",
    "data.head(10)"
   ]
  },
  {
   "cell_type": "code",
   "execution_count": 5,
   "metadata": {},
   "outputs": [
    {
     "name": "stdout",
     "output_type": "stream",
     "text": [
      "<class 'pandas.core.frame.DataFrame'>\n",
      "RangeIndex: 264553 entries, 0 to 264552\n",
      "Data columns (total 22 columns):\n",
      " #   Column          Non-Null Count   Dtype  \n",
      "---  ------          --------------   -----  \n",
      " 0   Unnamed: 0      264553 non-null  int64  \n",
      " 1   il              264553 non-null  object \n",
      " 2   fiyat           264553 non-null  float64\n",
      " 3   marka           264553 non-null  object \n",
      " 4   seri            264553 non-null  object \n",
      " 5   model           264553 non-null  object \n",
      " 6   yil             264553 non-null  int64  \n",
      " 7   yakit           264553 non-null  object \n",
      " 8   vites           264553 non-null  object \n",
      " 9   km              264553 non-null  int64  \n",
      " 10  kasa_tipi       264553 non-null  object \n",
      " 11  motor_gucu_hp   264553 non-null  int64  \n",
      " 12  motor_hacmi_cc  264553 non-null  int64  \n",
      " 13  cekis           264553 non-null  object \n",
      " 14  renk            264553 non-null  object \n",
      " 15  garanti         264553 non-null  int64  \n",
      " 16  plaka_uyruk     264553 non-null  object \n",
      " 17  kimden          264553 non-null  object \n",
      " 18  takas           264553 non-null  int64  \n",
      " 19  durumu          264553 non-null  object \n",
      " 20  submodel1       50050 non-null   object \n",
      " 21  submodel2       50050 non-null   object \n",
      "dtypes: float64(1), int64(7), object(14)\n",
      "memory usage: 44.4+ MB\n"
     ]
    }
   ],
   "source": [
    "data.info()"
   ]
  },
  {
   "cell_type": "code",
   "execution_count": 6,
   "metadata": {},
   "outputs": [],
   "source": [
    "data = data.reset_index(drop=True)"
   ]
  },
  {
   "cell_type": "code",
   "execution_count": 7,
   "metadata": {},
   "outputs": [
    {
     "data": {
      "text/html": [
       "<div>\n",
       "<style scoped>\n",
       "    .dataframe tbody tr th:only-of-type {\n",
       "        vertical-align: middle;\n",
       "    }\n",
       "\n",
       "    .dataframe tbody tr th {\n",
       "        vertical-align: top;\n",
       "    }\n",
       "\n",
       "    .dataframe thead th {\n",
       "        text-align: right;\n",
       "    }\n",
       "</style>\n",
       "<table border=\"1\" class=\"dataframe\">\n",
       "  <thead>\n",
       "    <tr style=\"text-align: right;\">\n",
       "      <th></th>\n",
       "      <th>Unnamed: 0</th>\n",
       "      <th>il</th>\n",
       "      <th>fiyat</th>\n",
       "      <th>marka</th>\n",
       "      <th>seri</th>\n",
       "      <th>model</th>\n",
       "      <th>yil</th>\n",
       "      <th>yakit</th>\n",
       "      <th>vites</th>\n",
       "      <th>km</th>\n",
       "      <th>...</th>\n",
       "      <th>motor_hacmi_cc</th>\n",
       "      <th>cekis</th>\n",
       "      <th>renk</th>\n",
       "      <th>garanti</th>\n",
       "      <th>plaka_uyruk</th>\n",
       "      <th>kimden</th>\n",
       "      <th>takas</th>\n",
       "      <th>durumu</th>\n",
       "      <th>submodel1</th>\n",
       "      <th>submodel2</th>\n",
       "    </tr>\n",
       "  </thead>\n",
       "  <tbody>\n",
       "    <tr>\n",
       "      <th>0</th>\n",
       "      <td>0</td>\n",
       "      <td>Konya</td>\n",
       "      <td>72500.0</td>\n",
       "      <td>Audi</td>\n",
       "      <td>A6</td>\n",
       "      <td>A6 Sedan 2.0 TDI</td>\n",
       "      <td>2006</td>\n",
       "      <td>Dizel</td>\n",
       "      <td>Manuel</td>\n",
       "      <td>154000</td>\n",
       "      <td>...</td>\n",
       "      <td>1968</td>\n",
       "      <td>Önden</td>\n",
       "      <td>Gri</td>\n",
       "      <td>0</td>\n",
       "      <td>Türkiye (TR) Plakalı</td>\n",
       "      <td>Galeriden</td>\n",
       "      <td>1</td>\n",
       "      <td>İkinci El</td>\n",
       "      <td>NaN</td>\n",
       "      <td>NaN</td>\n",
       "    </tr>\n",
       "    <tr>\n",
       "      <th>1</th>\n",
       "      <td>1</td>\n",
       "      <td>İzmir</td>\n",
       "      <td>117500.0</td>\n",
       "      <td>Audi</td>\n",
       "      <td>A4</td>\n",
       "      <td>A4 Sedan 2.0 TDI</td>\n",
       "      <td>2013</td>\n",
       "      <td>Dizel</td>\n",
       "      <td>Yarı Otomatik</td>\n",
       "      <td>130000</td>\n",
       "      <td>...</td>\n",
       "      <td>1968</td>\n",
       "      <td>Önden</td>\n",
       "      <td>Beyaz</td>\n",
       "      <td>1</td>\n",
       "      <td>Türkiye (TR) Plakalı</td>\n",
       "      <td>Galeriden</td>\n",
       "      <td>1</td>\n",
       "      <td>İkinci El</td>\n",
       "      <td>NaN</td>\n",
       "      <td>NaN</td>\n",
       "    </tr>\n",
       "    <tr>\n",
       "      <th>2</th>\n",
       "      <td>2</td>\n",
       "      <td>İstanbul</td>\n",
       "      <td>249500.0</td>\n",
       "      <td>Audi</td>\n",
       "      <td>A6</td>\n",
       "      <td>A6 Sedan 3.0 TDI Quattro</td>\n",
       "      <td>2014</td>\n",
       "      <td>Dizel</td>\n",
       "      <td>Yarı Otomatik</td>\n",
       "      <td>125000</td>\n",
       "      <td>...</td>\n",
       "      <td>2967</td>\n",
       "      <td>4WD</td>\n",
       "      <td>Siyah</td>\n",
       "      <td>0</td>\n",
       "      <td>Türkiye (TR) Plakalı</td>\n",
       "      <td>Galeriden</td>\n",
       "      <td>1</td>\n",
       "      <td>İkinci El</td>\n",
       "      <td>NaN</td>\n",
       "      <td>NaN</td>\n",
       "    </tr>\n",
       "    <tr>\n",
       "      <th>3</th>\n",
       "      <td>3</td>\n",
       "      <td>Muğla</td>\n",
       "      <td>92500.0</td>\n",
       "      <td>Audi</td>\n",
       "      <td>A4</td>\n",
       "      <td>A4 Sedan</td>\n",
       "      <td>2011</td>\n",
       "      <td>Benzin</td>\n",
       "      <td>Yarı Otomatik</td>\n",
       "      <td>81000</td>\n",
       "      <td>...</td>\n",
       "      <td>1798</td>\n",
       "      <td>Önden</td>\n",
       "      <td>Siyah</td>\n",
       "      <td>0</td>\n",
       "      <td>Türkiye (TR) Plakalı</td>\n",
       "      <td>Sahibinden</td>\n",
       "      <td>0</td>\n",
       "      <td>İkinci El</td>\n",
       "      <td>NaN</td>\n",
       "      <td>NaN</td>\n",
       "    </tr>\n",
       "    <tr>\n",
       "      <th>4</th>\n",
       "      <td>4</td>\n",
       "      <td>Afyonkarahisar</td>\n",
       "      <td>47000.0</td>\n",
       "      <td>Audi</td>\n",
       "      <td>A6</td>\n",
       "      <td>A6 Sedan 2.5 TDI Quattro</td>\n",
       "      <td>2003</td>\n",
       "      <td>Dizel</td>\n",
       "      <td>Yarı Otomatik</td>\n",
       "      <td>205500</td>\n",
       "      <td>...</td>\n",
       "      <td>2001</td>\n",
       "      <td>4WD</td>\n",
       "      <td>Gri</td>\n",
       "      <td>0</td>\n",
       "      <td>Türkiye (TR) Plakalı</td>\n",
       "      <td>Sahibinden</td>\n",
       "      <td>0</td>\n",
       "      <td>İkinci El</td>\n",
       "      <td>NaN</td>\n",
       "      <td>NaN</td>\n",
       "    </tr>\n",
       "  </tbody>\n",
       "</table>\n",
       "<p>5 rows × 22 columns</p>\n",
       "</div>"
      ],
      "text/plain": [
       "   Unnamed: 0              il     fiyat marka seri                     model  \\\n",
       "0           0           Konya   72500.0  Audi   A6          A6 Sedan 2.0 TDI   \n",
       "1           1           İzmir  117500.0  Audi   A4          A4 Sedan 2.0 TDI   \n",
       "2           2        İstanbul  249500.0  Audi   A6  A6 Sedan 3.0 TDI Quattro   \n",
       "3           3           Muğla   92500.0  Audi   A4                  A4 Sedan   \n",
       "4           4  Afyonkarahisar   47000.0  Audi   A6  A6 Sedan 2.5 TDI Quattro   \n",
       "\n",
       "    yil   yakit          vites      km  ... motor_hacmi_cc  cekis   renk  \\\n",
       "0  2006   Dizel         Manuel  154000  ...           1968  Önden    Gri   \n",
       "1  2013   Dizel  Yarı Otomatik  130000  ...           1968  Önden  Beyaz   \n",
       "2  2014   Dizel  Yarı Otomatik  125000  ...           2967    4WD  Siyah   \n",
       "3  2011  Benzin  Yarı Otomatik   81000  ...           1798  Önden  Siyah   \n",
       "4  2003   Dizel  Yarı Otomatik  205500  ...           2001    4WD    Gri   \n",
       "\n",
       "  garanti           plaka_uyruk      kimden takas      durumu  submodel1  \\\n",
       "0       0  Türkiye (TR) Plakalı   Galeriden     1  İkinci El         NaN   \n",
       "1       1  Türkiye (TR) Plakalı   Galeriden     1  İkinci El         NaN   \n",
       "2       0  Türkiye (TR) Plakalı   Galeriden     1  İkinci El         NaN   \n",
       "3       0  Türkiye (TR) Plakalı  Sahibinden     0  İkinci El         NaN   \n",
       "4       0  Türkiye (TR) Plakalı  Sahibinden     0  İkinci El         NaN   \n",
       "\n",
       "  submodel2  \n",
       "0       NaN  \n",
       "1       NaN  \n",
       "2       NaN  \n",
       "3       NaN  \n",
       "4       NaN  \n",
       "\n",
       "[5 rows x 22 columns]"
      ]
     },
     "execution_count": 7,
     "metadata": {},
     "output_type": "execute_result"
    }
   ],
   "source": [
    "data.head()"
   ]
  },
  {
   "cell_type": "code",
   "execution_count": 27,
   "metadata": {},
   "outputs": [],
   "source": [
    "writer = pd.ExcelWriter('3-Sahibinden_Araba.xlsx')\n",
    "data.to_excel(writer,'Sheet1')\n",
    "writer.save()"
   ]
  },
  {
   "cell_type": "code",
   "execution_count": null,
   "metadata": {
    "scrolled": false
   },
   "outputs": [],
   "source": [
    "plt.figure()\n",
    "f ,axarr = plt.subplots(3,2,figsize = (16,16))\n",
    "fiyat = data.fiyat.values\n",
    "axarr[0,0].scatter(data.yil.values,fiyat)\n",
    "axarr[0,0].set_title('Fİyat & Yıl')\n",
    "axarr[0,0].set_xlabel('Yıl')\n",
    "axarr[0,0].set_ylabel('Fiyat')\n",
    "axarr[0,0].set(ylim = (0,4568700))\n",
    "axarr[0,0].set(xlim = (1971,2017))\n",
    "axarr[0,1].scatter(data.km.values,fiyat)\n",
    "axarr[0,1].set_title('Fİyat & Kilometre')\n",
    "axarr[0,1].set_xlabel('Kilometre')\n",
    "axarr[0,1].set_ylabel('fiyat')\n",
    "axarr[0,1].set(ylim = (0,4568700))\n",
    "axarr[0,1].set(xlim = (0,2850000))\n",
    "axarr[1,0].scatter(data.yil,data.km)\n",
    "axarr[1,0].set_title('Yıl & Kilometre')\n",
    "axarr[1,0].set_xlabel('Yıl')\n",
    "axarr[1,0].set_ylabel('Kilometre')\n",
    "axarr[1,0].set(xlim = (1971,2017))\n",
    "axarr[1,1].scatter(data.motor_gucu_hp.values,fiyat)\n",
    "axarr[1,1].set_title('Fiyat & Motor Gücü')\n",
    "axarr[1,1].set_xlabel('Motor Gücü')\n",
    "axarr[1,1].set_ylabel('Fiyat')\n",
    "axarr[1,1].set(ylim = (0,4568700))\n",
    "axarr[1,1].set(xlim = (39,669))\n",
    "axarr[2,0].scatter(data.motor_hacmi_cc.values,fiyat)\n",
    "axarr[2,0].set_title('Fiyat & Motor Hacmi')\n",
    "axarr[2,0].set_xlabel('Motor Hacmi')\n",
    "axarr[2,0].set_ylabel('Fiyat')\n",
    "axarr[2,0].set(ylim = (0,4568700))\n",
    "axarr[2,0].set(xlim = (698,7011))\n",
    "axarr[2,1].scatter(data.motor_hacmi_cc,data.motor_gucu_hp)\n",
    "axarr[2,1].set_title('Motor Hacmi & Motor Gücü')\n",
    "axarr[2,1].set_xlabel('Motor Hacmi')\n",
    "axarr[2,1].set_ylabel('Motor Gücü')\n",
    "axarr[2,1].set(xlim = (698,7011),ylim = (39,669))"
   ]
  },
  {
   "cell_type": "code",
   "execution_count": null,
   "metadata": {},
   "outputs": [],
   "source": [
    "pd.options.display.float_format = \"{:.2f}\".format\n",
    "data.describe()"
   ]
  },
  {
   "cell_type": "code",
   "execution_count": null,
   "metadata": {
    "collapsed": true
   },
   "outputs": [],
   "source": [
    "#Outlier'ları nasıl ortalama ile değiştirebiliriz.\n",
    "#mean = data['km'].mean()\n",
    "#mean\n",
    "##https://stackoverflow.com/questions/45386955/python-replacing-outliers-values-with-median-values\n",
    "#data['km'] = np.where((data['yil']<2000)&(data['km']<50000),mean,data['km']) "
   ]
  },
  {
   "cell_type": "markdown",
   "metadata": {},
   "source": [
    "Yıl 1980 ile 1990 arasında, 1990 ve 2000 arasında fiyatı 100 bin'e yakın ve 100 bin olan arabalar var onlar kontrol edilmeli"
   ]
  },
  {
   "cell_type": "code",
   "execution_count": null,
   "metadata": {
    "scrolled": false
   },
   "outputs": [],
   "source": [
    "data[(data['yil']<=1990)&(data['yil']>=1980)&(data['fiyat']<150000)&(data['fiyat']>40000)].sort_values(['fiyat'],ascending=False)\n",
    "##https://www.sahibinden.com/ilan/vasita-otomobil-porsche-tk-motors-1986-porsche-911-carrera-targa-448903437/detay"
   ]
  },
  {
   "cell_type": "code",
   "execution_count": null,
   "metadata": {
    "scrolled": true
   },
   "outputs": [],
   "source": [
    "data[(data['yil']<=2000)&(data['yil']>=1990)&(data['fiyat']<150000)&(data['fiyat']>40000)].sort_values(['fiyat'],ascending=False)"
   ]
  },
  {
   "cell_type": "markdown",
   "metadata": {},
   "source": [
    "Yıl Yeni Fiyat düşük onlara bi bakalım"
   ]
  },
  {
   "cell_type": "code",
   "execution_count": null,
   "metadata": {},
   "outputs": [],
   "source": [
    "data[(data['yil']>2012)&(data['fiyat']<35000)].sort_values(['fiyat'],ascending=False)"
   ]
  },
  {
   "cell_type": "markdown",
   "metadata": {},
   "source": [
    "Yılı eski olup da **kilometresi düşük olan arabalar** bir kontrol edilmesi gerek\n",
    "Belli ki buradaki arabaların girişlerinde yanlışlıklar var. Bu arabaların kilometresi mean ya da median değerler girilebilir. İstanbuldaki 1990-2000 yılları arasındaki km'nin ortalaması girilebilir."
   ]
  },
  {
   "cell_type": "code",
   "execution_count": null,
   "metadata": {
    "scrolled": true
   },
   "outputs": [],
   "source": [
    "data[(data['yil']<2000)&(data['km']<50000)].sort_values(['km'],ascending=True)"
   ]
  },
  {
   "cell_type": "code",
   "execution_count": null,
   "metadata": {
    "scrolled": true
   },
   "outputs": [],
   "source": [
    "data[(data['km']<1000)&(data['yil']<2005)].sort_values(['km'],ascending=True)"
   ]
  },
  {
   "cell_type": "markdown",
   "metadata": {},
   "source": [
    "**Burdaki motor gücünün çoğu yanlış bunların napılması gerekiyor bi düşünülecek.Mesela Tofaş Şahin 75 hp, Serçe 65 hp, subaru vivio  64 hp gibi.**"
   ]
  },
  {
   "cell_type": "code",
   "execution_count": null,
   "metadata": {
    "scrolled": true
   },
   "outputs": [],
   "source": [
    "data[(data['motor_gucu_hp']>=400)&(data['fiyat']<=75000)].sort_values(['motor_gucu_hp'],ascending=False)"
   ]
  },
  {
   "cell_type": "markdown",
   "metadata": {},
   "source": [
    "Motor hacminde de aynı şekilde problemler var. Onların düzeltilmesi gerekecek."
   ]
  },
  {
   "cell_type": "code",
   "execution_count": null,
   "metadata": {
    "scrolled": true
   },
   "outputs": [],
   "source": [
    "data[(data['motor_hacmi_cc']>=4000)&(data['fiyat']<=80000)].sort_values(['motor_hacmi_cc'],ascending=False)"
   ]
  },
  {
   "cell_type": "code",
   "execution_count": null,
   "metadata": {},
   "outputs": [],
   "source": [
    "data[(data['motor_hacmi_cc']<=3000)&(data['motor_gucu_hp']>=400)].sort_values(['motor_gucu_hp'],ascending=False)"
   ]
  },
  {
   "cell_type": "code",
   "execution_count": null,
   "metadata": {
    "scrolled": true
   },
   "outputs": [],
   "source": [
    "data[(data['motor_hacmi_cc']>=4000)&(data['motor_gucu_hp']<=300)].sort_values(['motor_hacmi_cc'],ascending=False)"
   ]
  },
  {
   "cell_type": "markdown",
   "metadata": {},
   "source": [
    "#### Potansiyel Outlier Adayları\n",
    "\n",
    "\n",
    "\n",
    "**Fiyat**|**Yıl**|**Km**|**Motor Gücü**|**Motor Hacmi**|**Bazı Markalar**\n",
    ":-----:|:-----:|:-----:|:-----:|:-----:|:-----:\n",
    "Yüksek|Düşük|Yüksek|Düşük|Düşük|Tofaş\n",
    "Düşük|Yüksek|Düşük|Yüksek|Yüksek|Ferrari,Jaguar,Maserati,Mazda,Mercedes,Porsche,Chrysler"
   ]
  },
  {
   "cell_type": "markdown",
   "metadata": {},
   "source": [
    "* Yıl düşük, fiyat yüksek"
   ]
  },
  {
   "cell_type": "code",
   "execution_count": null,
   "metadata": {
    "scrolled": true
   },
   "outputs": [],
   "source": [
    "data[(data['fiyat']>=150000)&(data['yil']<=2000)]"
   ]
  },
  {
   "cell_type": "markdown",
   "metadata": {},
   "source": [
    "* Yıl yüksek, fiyat düşük (653 araba var)"
   ]
  },
  {
   "cell_type": "code",
   "execution_count": null,
   "metadata": {
    "scrolled": true
   },
   "outputs": [],
   "source": [
    "data[(data['fiyat']<=30000)&(data['yil']>=2010)]"
   ]
  },
  {
   "cell_type": "markdown",
   "metadata": {},
   "source": [
    "* Km Yüksek, fiyat yüksek (448 araba var)"
   ]
  },
  {
   "cell_type": "code",
   "execution_count": null,
   "metadata": {
    "scrolled": true
   },
   "outputs": [],
   "source": [
    "data[(data['fiyat'] >=90000)&(data['km']>=175000)]"
   ]
  },
  {
   "cell_type": "markdown",
   "metadata": {},
   "source": [
    "* Km düşük, fiyat düşük (464 araba var)"
   ]
  },
  {
   "cell_type": "code",
   "execution_count": null,
   "metadata": {},
   "outputs": [],
   "source": [
    "data[(data['km']<=30000)&(data['fiyat']<=35000)]"
   ]
  },
  {
   "cell_type": "markdown",
   "metadata": {},
   "source": [
    "* Motor düşük, fiyat yüksek (1993 araba)"
   ]
  },
  {
   "cell_type": "code",
   "execution_count": null,
   "metadata": {},
   "outputs": [],
   "source": [
    "data[(data['motor_gucu_hp']<=150)&(data['fiyat']>=100000)]"
   ]
  },
  {
   "cell_type": "markdown",
   "metadata": {},
   "source": [
    "* Motor Yüksek, fiyat düşük"
   ]
  },
  {
   "cell_type": "code",
   "execution_count": null,
   "metadata": {
    "scrolled": true
   },
   "outputs": [],
   "source": [
    "data[(data['motor_gucu_hp']>=450)&(data['fiyat']<=100000)]"
   ]
  },
  {
   "cell_type": "markdown",
   "metadata": {},
   "source": [
    "* Motor Hacmi düşük, fiyat yüksek (896 araba)"
   ]
  },
  {
   "cell_type": "code",
   "execution_count": null,
   "metadata": {},
   "outputs": [],
   "source": [
    "data[(data['motor_hacmi_cc']<=3500)&(data['fiyat']>=250000)]"
   ]
  },
  {
   "cell_type": "markdown",
   "metadata": {},
   "source": [
    "* Motor Hacmi yüksek, fiyat düşük"
   ]
  },
  {
   "cell_type": "code",
   "execution_count": null,
   "metadata": {
    "scrolled": true
   },
   "outputs": [],
   "source": [
    "data[(data['motor_hacmi_cc']>=5000)&(data['fiyat']<=100000)]"
   ]
  },
  {
   "cell_type": "code",
   "execution_count": null,
   "metadata": {
    "scrolled": true
   },
   "outputs": [],
   "source": [
    "data[(data['marka']=='Tofaş')&(data['fiyat']>=20000)]"
   ]
  },
  {
   "cell_type": "code",
   "execution_count": null,
   "metadata": {},
   "outputs": [],
   "source": [
    "data['marka'].unique()"
   ]
  },
  {
   "cell_type": "code",
   "execution_count": null,
   "metadata": {
    "collapsed": true
   },
   "outputs": [],
   "source": [
    "lüks_markalar = ['Ferrari','Porsche','Chrysler','Mazda','Jaguar','Maserati']\n",
    "for i in lüks_markalar:\n",
    "    df9 =data[(data['marka']==i)&(data['fiyat']<=175000)]"
   ]
  },
  {
   "cell_type": "code",
   "execution_count": null,
   "metadata": {},
   "outputs": [],
   "source": [
    "df9"
   ]
  },
  {
   "cell_type": "code",
   "execution_count": null,
   "metadata": {
    "collapsed": true
   },
   "outputs": [],
   "source": [
    "#writer = pd.ExcelWriter('Araba_Son.xlsx')\n",
    "#data.to_excel(writer,'Sheet1')\n",
    "#writer.save()"
   ]
  }
 ],
 "metadata": {
  "kernelspec": {
   "display_name": "Python 3",
   "language": "python",
   "name": "python3"
  },
  "language_info": {
   "codemirror_mode": {
    "name": "ipython",
    "version": 3
   },
   "file_extension": ".py",
   "mimetype": "text/x-python",
   "name": "python",
   "nbconvert_exporter": "python",
   "pygments_lexer": "ipython3",
   "version": "3.8.3"
  }
 },
 "nbformat": 4,
 "nbformat_minor": 2
}
