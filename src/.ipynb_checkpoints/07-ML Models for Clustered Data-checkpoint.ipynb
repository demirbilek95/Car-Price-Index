{
 "cells": [
  {
   "cell_type": "code",
   "execution_count": 1,
   "metadata": {},
   "outputs": [],
   "source": [
    "import numpy as np\n",
    "import pandas as pd\n",
    "%matplotlib inline\n",
    "import matplotlib.pyplot as plt\n",
    "import seaborn as sns\n",
    "from sklearn.cluster import KMeans\n",
    "from scipy.stats import norm, skew\n",
    "from scipy import stats"
   ]
  },
  {
   "cell_type": "code",
   "execution_count": 4,
   "metadata": {},
   "outputs": [
    {
     "data": {
      "text/html": [
       "<div>\n",
       "<style scoped>\n",
       "    .dataframe tbody tr th:only-of-type {\n",
       "        vertical-align: middle;\n",
       "    }\n",
       "\n",
       "    .dataframe tbody tr th {\n",
       "        vertical-align: top;\n",
       "    }\n",
       "\n",
       "    .dataframe thead th {\n",
       "        text-align: right;\n",
       "    }\n",
       "</style>\n",
       "<table border=\"1\" class=\"dataframe\">\n",
       "  <thead>\n",
       "    <tr style=\"text-align: right;\">\n",
       "      <th></th>\n",
       "      <th>il</th>\n",
       "      <th>fiyat</th>\n",
       "      <th>marka</th>\n",
       "      <th>seri</th>\n",
       "      <th>model</th>\n",
       "      <th>yil</th>\n",
       "      <th>yakit</th>\n",
       "      <th>vites</th>\n",
       "      <th>km</th>\n",
       "      <th>kasa_tipi</th>\n",
       "      <th>...</th>\n",
       "      <th>motor_hacmi_cc</th>\n",
       "      <th>cekis</th>\n",
       "      <th>renk</th>\n",
       "      <th>garanti</th>\n",
       "      <th>plaka_uyruk</th>\n",
       "      <th>kimden</th>\n",
       "      <th>takas</th>\n",
       "      <th>durumu</th>\n",
       "      <th>submodel1</th>\n",
       "      <th>submodel2</th>\n",
       "    </tr>\n",
       "  </thead>\n",
       "  <tbody>\n",
       "    <tr>\n",
       "      <th>0</th>\n",
       "      <td>Konya</td>\n",
       "      <td>72500.0</td>\n",
       "      <td>Audi</td>\n",
       "      <td>A6</td>\n",
       "      <td>A6 Sedan 2.0 TDI</td>\n",
       "      <td>2006</td>\n",
       "      <td>Dizel</td>\n",
       "      <td>Manuel</td>\n",
       "      <td>154000</td>\n",
       "      <td>Sedan</td>\n",
       "      <td>...</td>\n",
       "      <td>1968</td>\n",
       "      <td>Önden</td>\n",
       "      <td>Gri</td>\n",
       "      <td>0</td>\n",
       "      <td>Türkiye (TR) Plakalı</td>\n",
       "      <td>Galeriden</td>\n",
       "      <td>1</td>\n",
       "      <td>İkinci El</td>\n",
       "      <td>NaN</td>\n",
       "      <td>NaN</td>\n",
       "    </tr>\n",
       "    <tr>\n",
       "      <th>1</th>\n",
       "      <td>İzmir</td>\n",
       "      <td>117500.0</td>\n",
       "      <td>Audi</td>\n",
       "      <td>A4</td>\n",
       "      <td>A4 Sedan 2.0 TDI</td>\n",
       "      <td>2013</td>\n",
       "      <td>Dizel</td>\n",
       "      <td>Yarı Otomatik</td>\n",
       "      <td>130000</td>\n",
       "      <td>Sedan</td>\n",
       "      <td>...</td>\n",
       "      <td>1968</td>\n",
       "      <td>Önden</td>\n",
       "      <td>Beyaz</td>\n",
       "      <td>1</td>\n",
       "      <td>Türkiye (TR) Plakalı</td>\n",
       "      <td>Galeriden</td>\n",
       "      <td>1</td>\n",
       "      <td>İkinci El</td>\n",
       "      <td>NaN</td>\n",
       "      <td>NaN</td>\n",
       "    </tr>\n",
       "    <tr>\n",
       "      <th>2</th>\n",
       "      <td>İstanbul</td>\n",
       "      <td>249500.0</td>\n",
       "      <td>Audi</td>\n",
       "      <td>A6</td>\n",
       "      <td>A6 Sedan 3.0 TDI Quattro</td>\n",
       "      <td>2014</td>\n",
       "      <td>Dizel</td>\n",
       "      <td>Yarı Otomatik</td>\n",
       "      <td>125000</td>\n",
       "      <td>Sedan</td>\n",
       "      <td>...</td>\n",
       "      <td>2967</td>\n",
       "      <td>4WD</td>\n",
       "      <td>Siyah</td>\n",
       "      <td>0</td>\n",
       "      <td>Türkiye (TR) Plakalı</td>\n",
       "      <td>Galeriden</td>\n",
       "      <td>1</td>\n",
       "      <td>İkinci El</td>\n",
       "      <td>NaN</td>\n",
       "      <td>NaN</td>\n",
       "    </tr>\n",
       "    <tr>\n",
       "      <th>3</th>\n",
       "      <td>Muğla</td>\n",
       "      <td>92500.0</td>\n",
       "      <td>Audi</td>\n",
       "      <td>A4</td>\n",
       "      <td>A4 Sedan</td>\n",
       "      <td>2011</td>\n",
       "      <td>Benzin</td>\n",
       "      <td>Yarı Otomatik</td>\n",
       "      <td>81000</td>\n",
       "      <td>Sedan</td>\n",
       "      <td>...</td>\n",
       "      <td>1798</td>\n",
       "      <td>Önden</td>\n",
       "      <td>Siyah</td>\n",
       "      <td>0</td>\n",
       "      <td>Türkiye (TR) Plakalı</td>\n",
       "      <td>Sahibinden</td>\n",
       "      <td>0</td>\n",
       "      <td>İkinci El</td>\n",
       "      <td>NaN</td>\n",
       "      <td>NaN</td>\n",
       "    </tr>\n",
       "    <tr>\n",
       "      <th>4</th>\n",
       "      <td>Afyonkarahisar</td>\n",
       "      <td>47000.0</td>\n",
       "      <td>Audi</td>\n",
       "      <td>A6</td>\n",
       "      <td>A6 Sedan 2.5 TDI Quattro</td>\n",
       "      <td>2003</td>\n",
       "      <td>Dizel</td>\n",
       "      <td>Yarı Otomatik</td>\n",
       "      <td>205500</td>\n",
       "      <td>Sedan</td>\n",
       "      <td>...</td>\n",
       "      <td>2001</td>\n",
       "      <td>4WD</td>\n",
       "      <td>Gri</td>\n",
       "      <td>0</td>\n",
       "      <td>Türkiye (TR) Plakalı</td>\n",
       "      <td>Sahibinden</td>\n",
       "      <td>0</td>\n",
       "      <td>İkinci El</td>\n",
       "      <td>NaN</td>\n",
       "      <td>NaN</td>\n",
       "    </tr>\n",
       "  </tbody>\n",
       "</table>\n",
       "<p>5 rows × 21 columns</p>\n",
       "</div>"
      ],
      "text/plain": [
       "               il     fiyat marka seri                     model   yil  \\\n",
       "0           Konya   72500.0  Audi   A6          A6 Sedan 2.0 TDI  2006   \n",
       "1           İzmir  117500.0  Audi   A4          A4 Sedan 2.0 TDI  2013   \n",
       "2        İstanbul  249500.0  Audi   A6  A6 Sedan 3.0 TDI Quattro  2014   \n",
       "3           Muğla   92500.0  Audi   A4                  A4 Sedan  2011   \n",
       "4  Afyonkarahisar   47000.0  Audi   A6  A6 Sedan 2.5 TDI Quattro  2003   \n",
       "\n",
       "    yakit          vites      km kasa_tipi  ...  motor_hacmi_cc  cekis   renk  \\\n",
       "0   Dizel         Manuel  154000     Sedan  ...            1968  Önden    Gri   \n",
       "1   Dizel  Yarı Otomatik  130000     Sedan  ...            1968  Önden  Beyaz   \n",
       "2   Dizel  Yarı Otomatik  125000     Sedan  ...            2967    4WD  Siyah   \n",
       "3  Benzin  Yarı Otomatik   81000     Sedan  ...            1798  Önden  Siyah   \n",
       "4   Dizel  Yarı Otomatik  205500     Sedan  ...            2001    4WD    Gri   \n",
       "\n",
       "  garanti           plaka_uyruk      kimden takas      durumu submodel1  \\\n",
       "0       0  Türkiye (TR) Plakalı   Galeriden     1  İkinci El        NaN   \n",
       "1       1  Türkiye (TR) Plakalı   Galeriden     1  İkinci El        NaN   \n",
       "2       0  Türkiye (TR) Plakalı   Galeriden     1  İkinci El        NaN   \n",
       "3       0  Türkiye (TR) Plakalı  Sahibinden     0  İkinci El        NaN   \n",
       "4       0  Türkiye (TR) Plakalı  Sahibinden     0  İkinci El        NaN   \n",
       "\n",
       "  submodel2  \n",
       "0       NaN  \n",
       "1       NaN  \n",
       "2       NaN  \n",
       "3       NaN  \n",
       "4       NaN  \n",
       "\n",
       "[5 rows x 21 columns]"
      ]
     },
     "execution_count": 4,
     "metadata": {},
     "output_type": "execute_result"
    }
   ],
   "source": [
    "data = pd.read_excel('../data/data_merged_filtered.xlsx',index_col=0)\n",
    "data.head()"
   ]
  },
  {
   "cell_type": "code",
   "execution_count": 6,
   "metadata": {},
   "outputs": [
    {
     "data": {
      "text/plain": [
       "Index(['il', 'fiyat', 'marka', 'seri', 'model', 'yil', 'yakit', 'vites', 'km',\n",
       "       'kasa_tipi', 'motor_gucu_hp', 'motor_hacmi_cc', 'cekis', 'renk',\n",
       "       'garanti', 'plaka_uyruk', 'kimden', 'takas', 'durumu', 'submodel1',\n",
       "       'submodel2'],\n",
       "      dtype='object')"
      ]
     },
     "execution_count": 6,
     "metadata": {},
     "output_type": "execute_result"
    }
   ],
   "source": [
    "data.columns"
   ]
  },
  {
   "cell_type": "code",
   "execution_count": 7,
   "metadata": {},
   "outputs": [],
   "source": [
    "silinecekler = ['il','model','motor_hacmi_cc','cekis','garanti','plaka_uyruk','kimden',\n",
    "                'takas','durumu','seri','renk','submodel1','submodel2']\n",
    "for i in silinecekler:\n",
    "    del data[i]"
   ]
  },
  {
   "cell_type": "code",
   "execution_count": 8,
   "metadata": {},
   "outputs": [
    {
     "name": "stdout",
     "output_type": "stream",
     "text": [
      "<class 'pandas.core.frame.DataFrame'>\n",
      "Int64Index: 258505 entries, 0 to 264552\n",
      "Data columns (total 8 columns):\n",
      " #   Column         Non-Null Count   Dtype  \n",
      "---  ------         --------------   -----  \n",
      " 0   fiyat          258505 non-null  float64\n",
      " 1   marka          258505 non-null  object \n",
      " 2   yil            258505 non-null  int64  \n",
      " 3   yakit          258505 non-null  object \n",
      " 4   vites          258505 non-null  object \n",
      " 5   km             258505 non-null  int64  \n",
      " 6   kasa_tipi      258505 non-null  object \n",
      " 7   motor_gucu_hp  258505 non-null  int64  \n",
      "dtypes: float64(1), int64(3), object(4)\n",
      "memory usage: 17.8+ MB\n"
     ]
    }
   ],
   "source": [
    "data.info()"
   ]
  },
  {
   "cell_type": "code",
   "execution_count": 9,
   "metadata": {},
   "outputs": [
    {
     "data": {
      "text/html": [
       "<div>\n",
       "<style scoped>\n",
       "    .dataframe tbody tr th:only-of-type {\n",
       "        vertical-align: middle;\n",
       "    }\n",
       "\n",
       "    .dataframe tbody tr th {\n",
       "        vertical-align: top;\n",
       "    }\n",
       "\n",
       "    .dataframe thead th {\n",
       "        text-align: right;\n",
       "    }\n",
       "</style>\n",
       "<table border=\"1\" class=\"dataframe\">\n",
       "  <thead>\n",
       "    <tr style=\"text-align: right;\">\n",
       "      <th></th>\n",
       "      <th>fiyat</th>\n",
       "      <th>yil</th>\n",
       "      <th>km</th>\n",
       "      <th>motor_gucu_hp</th>\n",
       "    </tr>\n",
       "  </thead>\n",
       "  <tbody>\n",
       "    <tr>\n",
       "      <th>count</th>\n",
       "      <td>258505.00</td>\n",
       "      <td>258505.00</td>\n",
       "      <td>258505.00</td>\n",
       "      <td>258505.00</td>\n",
       "    </tr>\n",
       "    <tr>\n",
       "      <th>mean</th>\n",
       "      <td>65396.70</td>\n",
       "      <td>2008.31</td>\n",
       "      <td>129694.28</td>\n",
       "      <td>112.80</td>\n",
       "    </tr>\n",
       "    <tr>\n",
       "      <th>std</th>\n",
       "      <td>147105.04</td>\n",
       "      <td>6.81</td>\n",
       "      <td>85008.41</td>\n",
       "      <td>43.83</td>\n",
       "    </tr>\n",
       "    <tr>\n",
       "      <th>min</th>\n",
       "      <td>1000.00</td>\n",
       "      <td>1991.00</td>\n",
       "      <td>0.00</td>\n",
       "      <td>51.00</td>\n",
       "    </tr>\n",
       "    <tr>\n",
       "      <th>25%</th>\n",
       "      <td>28250.00</td>\n",
       "      <td>2004.00</td>\n",
       "      <td>61000.00</td>\n",
       "      <td>88.00</td>\n",
       "    </tr>\n",
       "    <tr>\n",
       "      <th>50%</th>\n",
       "      <td>45000.00</td>\n",
       "      <td>2011.00</td>\n",
       "      <td>120000.00</td>\n",
       "      <td>102.00</td>\n",
       "    </tr>\n",
       "    <tr>\n",
       "      <th>75%</th>\n",
       "      <td>73000.00</td>\n",
       "      <td>2014.00</td>\n",
       "      <td>187000.00</td>\n",
       "      <td>125.00</td>\n",
       "    </tr>\n",
       "    <tr>\n",
       "      <th>max</th>\n",
       "      <td>45500000.00</td>\n",
       "      <td>2018.00</td>\n",
       "      <td>698000.00</td>\n",
       "      <td>490.00</td>\n",
       "    </tr>\n",
       "  </tbody>\n",
       "</table>\n",
       "</div>"
      ],
      "text/plain": [
       "            fiyat       yil        km  motor_gucu_hp\n",
       "count   258505.00 258505.00 258505.00      258505.00\n",
       "mean     65396.70   2008.31 129694.28         112.80\n",
       "std     147105.04      6.81  85008.41          43.83\n",
       "min       1000.00   1991.00      0.00          51.00\n",
       "25%      28250.00   2004.00  61000.00          88.00\n",
       "50%      45000.00   2011.00 120000.00         102.00\n",
       "75%      73000.00   2014.00 187000.00         125.00\n",
       "max   45500000.00   2018.00 698000.00         490.00"
      ]
     },
     "execution_count": 9,
     "metadata": {},
     "output_type": "execute_result"
    }
   ],
   "source": [
    "pd.options.display.float_format = \"{:.2f}\".format\n",
    "data.describe()"
   ]
  },
  {
   "cell_type": "code",
   "execution_count": 10,
   "metadata": {},
   "outputs": [
    {
     "name": "stdout",
     "output_type": "stream",
     "text": [
      "\n",
      " mu = 65396.70 and sigma = 147104.75\n",
      "\n"
     ]
    },
    {
     "data": {
      "image/png": "[encoded data removed]",
      "text/plain": [
       "<Figure size 864x576 with 1 Axes>"
      ]
     },
     "metadata": {
      "needs_background": "light"
     },
     "output_type": "display_data"
    },
    {
     "data": {
      "image/png": "[encoded data removed]",
      "text/plain": [
       "<Figure size 864x576 with 1 Axes>"
      ]
     },
     "metadata": {
      "needs_background": "light"
     },
     "output_type": "display_data"
    }
   ],
   "source": [
    "plt.figure(figsize=(12,8))\n",
    "sns.distplot(data['fiyat'] , fit=norm)\n",
    "\n",
    "# Get the fitted parameters used by the function\n",
    "(mu, sigma) = norm.fit(data['fiyat'])\n",
    "print( '\\n mu = {:.2f} and sigma = {:.2f}\\n'.format(mu, sigma))\n",
    "\n",
    "#Now plot the distribution\n",
    "plt.legend(['Normal dist. ($\\mu=$ {:.2f} and $\\sigma=$ {:.2f} )'.format(mu, sigma)],\n",
    "            loc='best')\n",
    "plt.ylabel('Frequency')\n",
    "plt.title('Price distribution')\n",
    "\n",
    "#Get also the QQ-plot\n",
    "fig = plt.figure(figsize=(12,8))\n",
    "res = stats.probplot(data['fiyat'], plot=plt)\n",
    "plt.show()"
   ]
  },
  {
   "cell_type": "code",
   "execution_count": 11,
   "metadata": {},
   "outputs": [
    {
     "name": "stdout",
     "output_type": "stream",
     "text": [
      "\n",
      " mu = 65396.70 and sigma = 147104.75\n",
      "\n"
     ]
    },
    {
     "data": {
      "image/png": "[encoded data removed]",
      "text/plain": [
       "<Figure size 864x576 with 1 Axes>"
      ]
     },
     "metadata": {
      "needs_background": "light"
     },
     "output_type": "display_data"
    },
    {
     "data": {
      "image/png": "[encoded data removed]",
      "text/plain": [
       "<Figure size 864x576 with 1 Axes>"
      ]
     },
     "metadata": {
      "needs_background": "light"
     },
     "output_type": "display_data"
    }
   ],
   "source": [
    "#We use the numpy fuction log1p which  applies log(1+x) to all elements of the column\n",
    "Log_transformed_price = np.log1p(data[\"fiyat\"])\n",
    "\n",
    "#Check the new distribution\n",
    "plt.figure(figsize =(12,8))\n",
    "sns.distplot(Log_transformed_price , fit=norm)\n",
    "\n",
    "# Get the fitted parameters used by the function\n",
    "(mu, sigma) = norm.fit(data['fiyat'])\n",
    "print( '\\n mu = {:.2f} and sigma = {:.2f}\\n'.format(mu, sigma))\n",
    "\n",
    "#Now plot the distribution\n",
    "plt.legend(['Normal dist. ($\\mu=$ {:.2f} and $\\sigma=$ {:.2f} )'.format(mu, sigma)],\n",
    "            loc='best')\n",
    "plt.ylabel('Frequency')\n",
    "plt.title('Price distribution')\n",
    "\n",
    "#Get also the QQ-plot\n",
    "fig = plt.figure(figsize=(12,8))\n",
    "res = stats.probplot(Log_transformed_price, plot=plt)\n",
    "plt.show()"
   ]
  },
  {
   "cell_type": "code",
   "execution_count": 12,
   "metadata": {},
   "outputs": [],
   "source": [
    "#log transform skewed numeric features:\n",
    "numeric_feats = data.dtypes[data.dtypes != \"object\"].index\n",
    "\n",
    "skewed_feats = data[numeric_feats].apply(lambda x: skew(x.dropna())) #compute skewness\n",
    "skewed_feats = skewed_feats[skewed_feats > 0.75]\n",
    "skewed_feats = skewed_feats.index\n",
    "\n",
    "data[skewed_feats] = np.log1p(data[skewed_feats])"
   ]
  },
  {
   "cell_type": "code",
   "execution_count": 13,
   "metadata": {},
   "outputs": [],
   "source": [
    "data = pd.get_dummies(data)"
   ]
  },
  {
   "cell_type": "code",
   "execution_count": 14,
   "metadata": {},
   "outputs": [
    {
     "data": {
      "text/html": [
       "<div>\n",
       "<style scoped>\n",
       "    .dataframe tbody tr th:only-of-type {\n",
       "        vertical-align: middle;\n",
       "    }\n",
       "\n",
       "    .dataframe tbody tr th {\n",
       "        vertical-align: top;\n",
       "    }\n",
       "\n",
       "    .dataframe thead th {\n",
       "        text-align: right;\n",
       "    }\n",
       "</style>\n",
       "<table border=\"1\" class=\"dataframe\">\n",
       "  <thead>\n",
       "    <tr style=\"text-align: right;\">\n",
       "      <th></th>\n",
       "      <th>fiyat</th>\n",
       "      <th>yil</th>\n",
       "      <th>km</th>\n",
       "      <th>motor_gucu_hp</th>\n",
       "      <th>marka_Alfa Romeo</th>\n",
       "      <th>marka_Audi</th>\n",
       "      <th>marka_BMW</th>\n",
       "      <th>marka_Bentley</th>\n",
       "      <th>marka_Chevrolet</th>\n",
       "      <th>marka_Chrysler</th>\n",
       "      <th>...</th>\n",
       "      <th>vites_Yarı Otomatik</th>\n",
       "      <th>kasa_tipi_Cabrio</th>\n",
       "      <th>kasa_tipi_Coupe</th>\n",
       "      <th>kasa_tipi_Crossover</th>\n",
       "      <th>kasa_tipi_Hatchback 3 kapı</th>\n",
       "      <th>kasa_tipi_Hatchback 5 kapı</th>\n",
       "      <th>kasa_tipi_MPV</th>\n",
       "      <th>kasa_tipi_Roadster</th>\n",
       "      <th>kasa_tipi_Sedan</th>\n",
       "      <th>kasa_tipi_Station Wagon</th>\n",
       "    </tr>\n",
       "  </thead>\n",
       "  <tbody>\n",
       "    <tr>\n",
       "      <th>0</th>\n",
       "      <td>11.19</td>\n",
       "      <td>2006</td>\n",
       "      <td>11.94</td>\n",
       "      <td>4.95</td>\n",
       "      <td>0</td>\n",
       "      <td>1</td>\n",
       "      <td>0</td>\n",
       "      <td>0</td>\n",
       "      <td>0</td>\n",
       "      <td>0</td>\n",
       "      <td>...</td>\n",
       "      <td>0</td>\n",
       "      <td>0</td>\n",
       "      <td>0</td>\n",
       "      <td>0</td>\n",
       "      <td>0</td>\n",
       "      <td>0</td>\n",
       "      <td>0</td>\n",
       "      <td>0</td>\n",
       "      <td>1</td>\n",
       "      <td>0</td>\n",
       "    </tr>\n",
       "    <tr>\n",
       "      <th>1</th>\n",
       "      <td>11.67</td>\n",
       "      <td>2013</td>\n",
       "      <td>11.78</td>\n",
       "      <td>5.18</td>\n",
       "      <td>0</td>\n",
       "      <td>1</td>\n",
       "      <td>0</td>\n",
       "      <td>0</td>\n",
       "      <td>0</td>\n",
       "      <td>0</td>\n",
       "      <td>...</td>\n",
       "      <td>1</td>\n",
       "      <td>0</td>\n",
       "      <td>0</td>\n",
       "      <td>0</td>\n",
       "      <td>0</td>\n",
       "      <td>0</td>\n",
       "      <td>0</td>\n",
       "      <td>0</td>\n",
       "      <td>1</td>\n",
       "      <td>0</td>\n",
       "    </tr>\n",
       "    <tr>\n",
       "      <th>2</th>\n",
       "      <td>12.43</td>\n",
       "      <td>2014</td>\n",
       "      <td>11.74</td>\n",
       "      <td>5.51</td>\n",
       "      <td>0</td>\n",
       "      <td>1</td>\n",
       "      <td>0</td>\n",
       "      <td>0</td>\n",
       "      <td>0</td>\n",
       "      <td>0</td>\n",
       "      <td>...</td>\n",
       "      <td>1</td>\n",
       "      <td>0</td>\n",
       "      <td>0</td>\n",
       "      <td>0</td>\n",
       "      <td>0</td>\n",
       "      <td>0</td>\n",
       "      <td>0</td>\n",
       "      <td>0</td>\n",
       "      <td>1</td>\n",
       "      <td>0</td>\n",
       "    </tr>\n",
       "    <tr>\n",
       "      <th>3</th>\n",
       "      <td>11.43</td>\n",
       "      <td>2011</td>\n",
       "      <td>11.30</td>\n",
       "      <td>5.08</td>\n",
       "      <td>0</td>\n",
       "      <td>1</td>\n",
       "      <td>0</td>\n",
       "      <td>0</td>\n",
       "      <td>0</td>\n",
       "      <td>0</td>\n",
       "      <td>...</td>\n",
       "      <td>1</td>\n",
       "      <td>0</td>\n",
       "      <td>0</td>\n",
       "      <td>0</td>\n",
       "      <td>0</td>\n",
       "      <td>0</td>\n",
       "      <td>0</td>\n",
       "      <td>0</td>\n",
       "      <td>1</td>\n",
       "      <td>0</td>\n",
       "    </tr>\n",
       "    <tr>\n",
       "      <th>4</th>\n",
       "      <td>10.76</td>\n",
       "      <td>2003</td>\n",
       "      <td>12.23</td>\n",
       "      <td>5.18</td>\n",
       "      <td>0</td>\n",
       "      <td>1</td>\n",
       "      <td>0</td>\n",
       "      <td>0</td>\n",
       "      <td>0</td>\n",
       "      <td>0</td>\n",
       "      <td>...</td>\n",
       "      <td>1</td>\n",
       "      <td>0</td>\n",
       "      <td>0</td>\n",
       "      <td>0</td>\n",
       "      <td>0</td>\n",
       "      <td>0</td>\n",
       "      <td>0</td>\n",
       "      <td>0</td>\n",
       "      <td>1</td>\n",
       "      <td>0</td>\n",
       "    </tr>\n",
       "  </tbody>\n",
       "</table>\n",
       "<p>5 rows × 58 columns</p>\n",
       "</div>"
      ],
      "text/plain": [
       "   fiyat   yil    km  motor_gucu_hp  marka_Alfa Romeo  marka_Audi  marka_BMW  \\\n",
       "0  11.19  2006 11.94           4.95                 0           1          0   \n",
       "1  11.67  2013 11.78           5.18                 0           1          0   \n",
       "2  12.43  2014 11.74           5.51                 0           1          0   \n",
       "3  11.43  2011 11.30           5.08                 0           1          0   \n",
       "4  10.76  2003 12.23           5.18                 0           1          0   \n",
       "\n",
       "   marka_Bentley  marka_Chevrolet  marka_Chrysler  ...  vites_Yarı Otomatik  \\\n",
       "0              0                0               0  ...                    0   \n",
       "1              0                0               0  ...                    1   \n",
       "2              0                0               0  ...                    1   \n",
       "3              0                0               0  ...                    1   \n",
       "4              0                0               0  ...                    1   \n",
       "\n",
       "   kasa_tipi_Cabrio  kasa_tipi_Coupe  kasa_tipi_Crossover  \\\n",
       "0                 0                0                    0   \n",
       "1                 0                0                    0   \n",
       "2                 0                0                    0   \n",
       "3                 0                0                    0   \n",
       "4                 0                0                    0   \n",
       "\n",
       "   kasa_tipi_Hatchback 3 kapı  kasa_tipi_Hatchback 5 kapı  kasa_tipi_MPV  \\\n",
       "0                           0                           0              0   \n",
       "1                           0                           0              0   \n",
       "2                           0                           0              0   \n",
       "3                           0                           0              0   \n",
       "4                           0                           0              0   \n",
       "\n",
       "   kasa_tipi_Roadster  kasa_tipi_Sedan  kasa_tipi_Station Wagon  \n",
       "0                   0                1                        0  \n",
       "1                   0                1                        0  \n",
       "2                   0                1                        0  \n",
       "3                   0                1                        0  \n",
       "4                   0                1                        0  \n",
       "\n",
       "[5 rows x 58 columns]"
      ]
     },
     "execution_count": 14,
     "metadata": {},
     "output_type": "execute_result"
    }
   ],
   "source": [
    "data.head()"
   ]
  },
  {
   "cell_type": "code",
   "execution_count": 15,
   "metadata": {},
   "outputs": [
    {
     "data": {
      "text/html": [
       "<div>\n",
       "<style scoped>\n",
       "    .dataframe tbody tr th:only-of-type {\n",
       "        vertical-align: middle;\n",
       "    }\n",
       "\n",
       "    .dataframe tbody tr th {\n",
       "        vertical-align: top;\n",
       "    }\n",
       "\n",
       "    .dataframe thead th {\n",
       "        text-align: right;\n",
       "    }\n",
       "</style>\n",
       "<table border=\"1\" class=\"dataframe\">\n",
       "  <thead>\n",
       "    <tr style=\"text-align: right;\">\n",
       "      <th></th>\n",
       "      <th>yil</th>\n",
       "      <th>km</th>\n",
       "      <th>motor_gucu_hp</th>\n",
       "      <th>marka_Alfa Romeo</th>\n",
       "      <th>marka_Audi</th>\n",
       "      <th>marka_BMW</th>\n",
       "      <th>marka_Bentley</th>\n",
       "      <th>marka_Chevrolet</th>\n",
       "      <th>marka_Chrysler</th>\n",
       "      <th>marka_Citroën</th>\n",
       "      <th>...</th>\n",
       "      <th>vites_Yarı Otomatik</th>\n",
       "      <th>kasa_tipi_Cabrio</th>\n",
       "      <th>kasa_tipi_Coupe</th>\n",
       "      <th>kasa_tipi_Crossover</th>\n",
       "      <th>kasa_tipi_Hatchback 3 kapı</th>\n",
       "      <th>kasa_tipi_Hatchback 5 kapı</th>\n",
       "      <th>kasa_tipi_MPV</th>\n",
       "      <th>kasa_tipi_Roadster</th>\n",
       "      <th>kasa_tipi_Sedan</th>\n",
       "      <th>kasa_tipi_Station Wagon</th>\n",
       "    </tr>\n",
       "  </thead>\n",
       "  <tbody>\n",
       "    <tr>\n",
       "      <th>0</th>\n",
       "      <td>2006</td>\n",
       "      <td>11.94</td>\n",
       "      <td>4.95</td>\n",
       "      <td>0</td>\n",
       "      <td>1</td>\n",
       "      <td>0</td>\n",
       "      <td>0</td>\n",
       "      <td>0</td>\n",
       "      <td>0</td>\n",
       "      <td>0</td>\n",
       "      <td>...</td>\n",
       "      <td>0</td>\n",
       "      <td>0</td>\n",
       "      <td>0</td>\n",
       "      <td>0</td>\n",
       "      <td>0</td>\n",
       "      <td>0</td>\n",
       "      <td>0</td>\n",
       "      <td>0</td>\n",
       "      <td>1</td>\n",
       "      <td>0</td>\n",
       "    </tr>\n",
       "    <tr>\n",
       "      <th>1</th>\n",
       "      <td>2013</td>\n",
       "      <td>11.78</td>\n",
       "      <td>5.18</td>\n",
       "      <td>0</td>\n",
       "      <td>1</td>\n",
       "      <td>0</td>\n",
       "      <td>0</td>\n",
       "      <td>0</td>\n",
       "      <td>0</td>\n",
       "      <td>0</td>\n",
       "      <td>...</td>\n",
       "      <td>1</td>\n",
       "      <td>0</td>\n",
       "      <td>0</td>\n",
       "      <td>0</td>\n",
       "      <td>0</td>\n",
       "      <td>0</td>\n",
       "      <td>0</td>\n",
       "      <td>0</td>\n",
       "      <td>1</td>\n",
       "      <td>0</td>\n",
       "    </tr>\n",
       "    <tr>\n",
       "      <th>2</th>\n",
       "      <td>2014</td>\n",
       "      <td>11.74</td>\n",
       "      <td>5.51</td>\n",
       "      <td>0</td>\n",
       "      <td>1</td>\n",
       "      <td>0</td>\n",
       "      <td>0</td>\n",
       "      <td>0</td>\n",
       "      <td>0</td>\n",
       "      <td>0</td>\n",
       "      <td>...</td>\n",
       "      <td>1</td>\n",
       "      <td>0</td>\n",
       "      <td>0</td>\n",
       "      <td>0</td>\n",
       "      <td>0</td>\n",
       "      <td>0</td>\n",
       "      <td>0</td>\n",
       "      <td>0</td>\n",
       "      <td>1</td>\n",
       "      <td>0</td>\n",
       "    </tr>\n",
       "    <tr>\n",
       "      <th>3</th>\n",
       "      <td>2011</td>\n",
       "      <td>11.30</td>\n",
       "      <td>5.08</td>\n",
       "      <td>0</td>\n",
       "      <td>1</td>\n",
       "      <td>0</td>\n",
       "      <td>0</td>\n",
       "      <td>0</td>\n",
       "      <td>0</td>\n",
       "      <td>0</td>\n",
       "      <td>...</td>\n",
       "      <td>1</td>\n",
       "      <td>0</td>\n",
       "      <td>0</td>\n",
       "      <td>0</td>\n",
       "      <td>0</td>\n",
       "      <td>0</td>\n",
       "      <td>0</td>\n",
       "      <td>0</td>\n",
       "      <td>1</td>\n",
       "      <td>0</td>\n",
       "    </tr>\n",
       "    <tr>\n",
       "      <th>4</th>\n",
       "      <td>2003</td>\n",
       "      <td>12.23</td>\n",
       "      <td>5.18</td>\n",
       "      <td>0</td>\n",
       "      <td>1</td>\n",
       "      <td>0</td>\n",
       "      <td>0</td>\n",
       "      <td>0</td>\n",
       "      <td>0</td>\n",
       "      <td>0</td>\n",
       "      <td>...</td>\n",
       "      <td>1</td>\n",
       "      <td>0</td>\n",
       "      <td>0</td>\n",
       "      <td>0</td>\n",
       "      <td>0</td>\n",
       "      <td>0</td>\n",
       "      <td>0</td>\n",
       "      <td>0</td>\n",
       "      <td>1</td>\n",
       "      <td>0</td>\n",
       "    </tr>\n",
       "  </tbody>\n",
       "</table>\n",
       "<p>5 rows × 57 columns</p>\n",
       "</div>"
      ],
      "text/plain": [
       "    yil    km  motor_gucu_hp  marka_Alfa Romeo  marka_Audi  marka_BMW  \\\n",
       "0  2006 11.94           4.95                 0           1          0   \n",
       "1  2013 11.78           5.18                 0           1          0   \n",
       "2  2014 11.74           5.51                 0           1          0   \n",
       "3  2011 11.30           5.08                 0           1          0   \n",
       "4  2003 12.23           5.18                 0           1          0   \n",
       "\n",
       "   marka_Bentley  marka_Chevrolet  marka_Chrysler  marka_Citroën  ...  \\\n",
       "0              0                0               0              0  ...   \n",
       "1              0                0               0              0  ...   \n",
       "2              0                0               0              0  ...   \n",
       "3              0                0               0              0  ...   \n",
       "4              0                0               0              0  ...   \n",
       "\n",
       "   vites_Yarı Otomatik  kasa_tipi_Cabrio  kasa_tipi_Coupe  \\\n",
       "0                    0                 0                0   \n",
       "1                    1                 0                0   \n",
       "2                    1                 0                0   \n",
       "3                    1                 0                0   \n",
       "4                    1                 0                0   \n",
       "\n",
       "   kasa_tipi_Crossover  kasa_tipi_Hatchback 3 kapı  \\\n",
       "0                    0                           0   \n",
       "1                    0                           0   \n",
       "2                    0                           0   \n",
       "3                    0                           0   \n",
       "4                    0                           0   \n",
       "\n",
       "   kasa_tipi_Hatchback 5 kapı  kasa_tipi_MPV  kasa_tipi_Roadster  \\\n",
       "0                           0              0                   0   \n",
       "1                           0              0                   0   \n",
       "2                           0              0                   0   \n",
       "3                           0              0                   0   \n",
       "4                           0              0                   0   \n",
       "\n",
       "   kasa_tipi_Sedan  kasa_tipi_Station Wagon  \n",
       "0                1                        0  \n",
       "1                1                        0  \n",
       "2                1                        0  \n",
       "3                1                        0  \n",
       "4                1                        0  \n",
       "\n",
       "[5 rows x 57 columns]"
      ]
     },
     "execution_count": 15,
     "metadata": {},
     "output_type": "execute_result"
    }
   ],
   "source": [
    "y = data.fiyat\n",
    "features = [i for i in data.columns if not i == 'fiyat']\n",
    "X = data[features]\n",
    "X.head()"
   ]
  },
  {
   "cell_type": "code",
   "execution_count": 16,
   "metadata": {},
   "outputs": [],
   "source": [
    "from sklearn.model_selection import train_test_split\n",
    "X_train, X_test, y_train, y_test = train_test_split(X, y,test_size = 0.33,random_state = 324)"
   ]
  },
  {
   "cell_type": "code",
   "execution_count": 49,
   "metadata": {},
   "outputs": [],
   "source": [
    "from xgboost import XGBRegressor\n",
    "from sklearn.linear_model import Ridge, ElasticNet , Lasso\n",
    "from sklearn.ensemble import RandomForestRegressor  \n",
    "from sklearn.metrics import mean_squared_error\n",
    "#sklearn.metrics.mean_squared_error(y_true, y_pred, sample_weight=None, multioutput=’uniform_average’)\n",
    "\n",
    "def mse_cv(y_pred_model):\n",
    "    mse = mean_squared_error(y_true = np.exp(y_test),y_pred = np.exp(y_pred_model)) \n",
    "    return(mse)"
   ]
  },
  {
   "cell_type": "code",
   "execution_count": 50,
   "metadata": {},
   "outputs": [
    {
     "data": {
      "text/plain": [
       "XGBRegressor(base_score=0.5, booster='gbtree', colsample_bylevel=1,\n",
       "             colsample_bynode=1, colsample_bytree=1, gamma=0, gpu_id=-1,\n",
       "             importance_type='gain', interaction_constraints='',\n",
       "             learning_rate=0.300000012, max_delta_step=0, max_depth=6,\n",
       "             min_child_weight=1, missing=nan, monotone_constraints='()',\n",
       "             n_estimators=100, n_jobs=0, num_parallel_tree=1, random_state=0,\n",
       "             reg_alpha=0, reg_lambda=1, scale_pos_weight=1, subsample=1,\n",
       "             tree_method='exact', validate_parameters=1, verbosity=None)"
      ]
     },
     "execution_count": 50,
     "metadata": {},
     "output_type": "execute_result"
    }
   ],
   "source": [
    "xgboost_Model = XGBRegressor()\n",
    "xgboost_Model.fit(X_train,y_train)"
   ]
  },
  {
   "cell_type": "code",
   "execution_count": 51,
   "metadata": {},
   "outputs": [
    {
     "name": "stdout",
     "output_type": "stream",
     "text": [
      "Mean Squared Error of this model is :  19620448748.733818\n",
      "R2 of this model is :  0.9675378618405296\n"
     ]
    }
   ],
   "source": [
    "y_pred_xgboost = xgboost_Model.predict(X_test)\n",
    "print('Mean Squared Error of this model is : ',mse_cv(y_pred_xgboost))\n",
    "print('R2 of this model is : ', xgboost_Model.score(X_train,y_train))"
   ]
  },
  {
   "cell_type": "code",
   "execution_count": 52,
   "metadata": {},
   "outputs": [
    {
     "data": {
      "text/plain": [
       "RandomForestRegressor()"
      ]
     },
     "execution_count": 52,
     "metadata": {},
     "output_type": "execute_result"
    }
   ],
   "source": [
    "RandomForest_Model = RandomForestRegressor()\n",
    "RandomForest_Model.fit(X_train,y_train)"
   ]
  },
  {
   "cell_type": "code",
   "execution_count": 53,
   "metadata": {},
   "outputs": [
    {
     "name": "stdout",
     "output_type": "stream",
     "text": [
      "Mean Squared Error of this model is :  19869023647.473835\n",
      "R2 of this model is :  0.9921457790254962\n"
     ]
    }
   ],
   "source": [
    "y_pred_randomforest = RandomForest_Model.predict(X_test)\n",
    "print('Mean Squared Error of this model is : ',mse_cv(y_pred_randomforest))\n",
    "print('R2 of this model is : ', RandomForest_Model.score(X_train,y_train))"
   ]
  },
  {
   "cell_type": "code",
   "execution_count": 54,
   "metadata": {},
   "outputs": [
    {
     "name": "stdout",
     "output_type": "stream",
     "text": [
      "20894834680.420883\n",
      "20894834478.697548\n",
      "20894832567.82169\n",
      "20893823516.97187\n",
      "20892907353.099804\n",
      "20890035973.2374\n",
      "20885977122.515244\n",
      "20888713385.56903\n",
      "20893989855.47563\n",
      "20906153938.119778\n",
      "20916973438.617157\n",
      "20944106237.556202\n",
      "20973055963.447796\n",
      "21003974042.854164\n"
     ]
    }
   ],
   "source": [
    "alphas = [0.0000005,0.00001,0.0001, 0.05, 0.1, 0.3, 1, 3, 5, 10, 15, 30, 50, 75]\n",
    "for alpha in alphas:\n",
    "    Ridge_Model = Ridge(alpha = alpha)\n",
    "    Ridge_Model.fit(X_train,y_train)\n",
    "    y_pred_ridge = Ridge_Model.predict(X_test)\n",
    "    print(mse_cv(y_pred_ridge))"
   ]
  },
  {
   "cell_type": "code",
   "execution_count": 55,
   "metadata": {},
   "outputs": [
    {
     "name": "stdout",
     "output_type": "stream",
     "text": [
      "Mean Squared Error of this model is :  20885977122.515244\n",
      "R2 of this model is :  0.9256323748641231\n"
     ]
    }
   ],
   "source": [
    "Best_Ridge = Ridge(alpha = 1)\n",
    "Best_Ridge.fit(X_train,y_train)\n",
    "y_pred_ridge = Best_Ridge.predict(X_test)\n",
    "print('Mean Squared Error of this model is : ' ,mse_cv(y_pred_ridge))\n",
    "print('R2 of this model is : ',Best_Ridge.score(X_train,y_train))"
   ]
  },
  {
   "cell_type": "code",
   "execution_count": 59,
   "metadata": {},
   "outputs": [
    {
     "name": "stdout",
     "output_type": "stream",
     "text": [
      "Mean Squared Error of this model is :  25720529973.71044\n",
      "R2 of this model is :  0.5373431061313876\n"
     ]
    }
   ],
   "source": [
    "lass_model = Lasso(alpha = 1)\n",
    "lass_model.fit(X_train,y_train)\n",
    "y_pred_lasso = lass_model.predict(X_test)\n",
    "print('Mean Squared Error of this model is : ' ,mse_cv(y_pred_lasso))\n",
    "print('R2 of this model is : ',lass_model.score(X_train,y_train))"
   ]
  },
  {
   "cell_type": "code",
   "execution_count": 60,
   "metadata": {},
   "outputs": [
    {
     "name": "stdout",
     "output_type": "stream",
     "text": [
      "20922249460.18957\n"
     ]
    }
   ],
   "source": [
    "Elastic_Model = ElasticNet(alpha = 0.0001,max_iter=5000)\n",
    "Elastic_Model.fit(X_train,y_train)\n",
    "y_pred_elastic = Elastic_Model.predict(X_test)\n",
    "print(mse_cv(y_pred_elastic))"
   ]
  },
  {
   "cell_type": "code",
   "execution_count": 74,
   "metadata": {},
   "outputs": [],
   "source": [
    "y_pred_xgboost_series = pd.Series(np.exp(y_pred_xgboost),name='XGBoost')\n",
    "y_pred_randomforest_series = pd.Series(np.exp(y_pred_randomforest),name='Random Forest')\n",
    "y_pred_ridge_series = pd.Series(np.exp(y_pred_ridge),name='Ridge')\n",
    "y_pred_lasso_series = pd.Series(np.exp(y_pred_lasso),name='Lasso')\n",
    "y_pred_elastic_series = pd.Series(np.exp(y_pred_elastic),name='Elastic')\n",
    "y_real = pd.Series(np.exp(y_test).values,name='Y_Real')"
   ]
  },
  {
   "cell_type": "code",
   "execution_count": 76,
   "metadata": {},
   "outputs": [],
   "source": [
    "prediction_list = [y_real,y_pred_xgboost_series,y_pred_randomforest_series,y_pred_ridge_series,\n",
    "                   y_pred_lasso_series,y_pred_elastic_series]"
   ]
  },
  {
   "cell_type": "code",
   "execution_count": 77,
   "metadata": {},
   "outputs": [],
   "source": [
    "all_predictions = pd.concat(prediction_list,axis=1)"
   ]
  },
  {
   "cell_type": "code",
   "execution_count": 78,
   "metadata": {},
   "outputs": [
    {
     "name": "stdout",
     "output_type": "stream",
     "text": [
      "<class 'pandas.core.frame.DataFrame'>\n",
      "RangeIndex: 85307 entries, 0 to 85306\n",
      "Data columns (total 6 columns):\n",
      " #   Column         Non-Null Count  Dtype  \n",
      "---  ------         --------------  -----  \n",
      " 0   Y_Real         85307 non-null  float64\n",
      " 1   XGBoost        85307 non-null  float32\n",
      " 2   Random Forest  85307 non-null  float64\n",
      " 3   Ridge          85307 non-null  float64\n",
      " 4   Lasso          85307 non-null  float64\n",
      " 5   Elastic        85307 non-null  float64\n",
      "dtypes: float32(1), float64(5)\n",
      "memory usage: 3.6 MB\n"
     ]
    }
   ],
   "source": [
    "all_predictions.info()"
   ]
  },
  {
   "cell_type": "code",
   "execution_count": 79,
   "metadata": {},
   "outputs": [
    {
     "data": {
      "text/html": [
       "<div>\n",
       "<style scoped>\n",
       "    .dataframe tbody tr th:only-of-type {\n",
       "        vertical-align: middle;\n",
       "    }\n",
       "\n",
       "    .dataframe tbody tr th {\n",
       "        vertical-align: top;\n",
       "    }\n",
       "\n",
       "    .dataframe thead th {\n",
       "        text-align: right;\n",
       "    }\n",
       "</style>\n",
       "<table border=\"1\" class=\"dataframe\">\n",
       "  <thead>\n",
       "    <tr style=\"text-align: right;\">\n",
       "      <th></th>\n",
       "      <th>Y_Real</th>\n",
       "      <th>XGBoost</th>\n",
       "      <th>Random Forest</th>\n",
       "      <th>Ridge</th>\n",
       "      <th>Lasso</th>\n",
       "      <th>Elastic</th>\n",
       "    </tr>\n",
       "  </thead>\n",
       "  <tbody>\n",
       "    <tr>\n",
       "      <th>0</th>\n",
       "      <td>39751.00</td>\n",
       "      <td>74275.62</td>\n",
       "      <td>62159.55</td>\n",
       "      <td>60658.28</td>\n",
       "      <td>22343.38</td>\n",
       "      <td>59460.61</td>\n",
       "    </tr>\n",
       "    <tr>\n",
       "      <th>1</th>\n",
       "      <td>106001.00</td>\n",
       "      <td>112302.04</td>\n",
       "      <td>123197.32</td>\n",
       "      <td>108412.65</td>\n",
       "      <td>62443.86</td>\n",
       "      <td>108078.06</td>\n",
       "    </tr>\n",
       "    <tr>\n",
       "      <th>2</th>\n",
       "      <td>18001.00</td>\n",
       "      <td>17286.48</td>\n",
       "      <td>17870.29</td>\n",
       "      <td>14165.44</td>\n",
       "      <td>25406.30</td>\n",
       "      <td>14168.03</td>\n",
       "    </tr>\n",
       "    <tr>\n",
       "      <th>3</th>\n",
       "      <td>37501.00</td>\n",
       "      <td>34939.30</td>\n",
       "      <td>31258.32</td>\n",
       "      <td>33645.62</td>\n",
       "      <td>42472.90</td>\n",
       "      <td>33706.16</td>\n",
       "    </tr>\n",
       "    <tr>\n",
       "      <th>4</th>\n",
       "      <td>298001.00</td>\n",
       "      <td>258465.80</td>\n",
       "      <td>276198.03</td>\n",
       "      <td>159996.14</td>\n",
       "      <td>51499.24</td>\n",
       "      <td>160567.62</td>\n",
       "    </tr>\n",
       "  </tbody>\n",
       "</table>\n",
       "</div>"
      ],
      "text/plain": [
       "     Y_Real   XGBoost  Random Forest     Ridge    Lasso   Elastic\n",
       "0  39751.00  74275.62       62159.55  60658.28 22343.38  59460.61\n",
       "1 106001.00 112302.04      123197.32 108412.65 62443.86 108078.06\n",
       "2  18001.00  17286.48       17870.29  14165.44 25406.30  14168.03\n",
       "3  37501.00  34939.30       31258.32  33645.62 42472.90  33706.16\n",
       "4 298001.00 258465.80      276198.03 159996.14 51499.24 160567.62"
      ]
     },
     "execution_count": 79,
     "metadata": {},
     "output_type": "execute_result"
    }
   ],
   "source": [
    "all_predictions.head()"
   ]
  },
  {
   "cell_type": "code",
   "execution_count": 80,
   "metadata": {},
   "outputs": [
    {
     "data": {
      "text/plain": [
       "Index(['fiyat', 'yil', 'km', 'motor_gucu_hp', 'marka_Alfa Romeo', 'marka_Audi',\n",
       "       'marka_BMW', 'marka_Bentley', 'marka_Chevrolet', 'marka_Chrysler',\n",
       "       'marka_Citroën', 'marka_Dacia', 'marka_Ferrari', 'marka_Fiat',\n",
       "       'marka_Ford', 'marka_Honda', 'marka_Hyundai', 'marka_Jaguar',\n",
       "       'marka_Kia', 'marka_Lada', 'marka_Lancia', 'marka_Maserati',\n",
       "       'marka_Mazda', 'marka_Mercedes - Benz', 'marka_Mini', 'marka_Nissan',\n",
       "       'marka_Opel', 'marka_Peugeot', 'marka_Porsche', 'marka_Renault',\n",
       "       'marka_Rover', 'marka_Seat', 'marka_Skoda', 'marka_Smart',\n",
       "       'marka_Subaru', 'marka_Suzuki', 'marka_Tata', 'marka_Tofaş',\n",
       "       'marka_Toyota', 'marka_Volkswagen', 'marka_Volvo', 'yakit_Benzin',\n",
       "       'yakit_Benzin & LPG', 'yakit_Dizel', 'yakit_Elektrik', 'yakit_Hybrid',\n",
       "       'vites_Manuel', 'vites_Otomatik', 'vites_Yarı Otomatik',\n",
       "       'kasa_tipi_Cabrio', 'kasa_tipi_Coupe', 'kasa_tipi_Crossover',\n",
       "       'kasa_tipi_Hatchback 3 kapı', 'kasa_tipi_Hatchback 5 kapı',\n",
       "       'kasa_tipi_MPV', 'kasa_tipi_Roadster', 'kasa_tipi_Sedan',\n",
       "       'kasa_tipi_Station Wagon'],\n",
       "      dtype='object')"
      ]
     },
     "execution_count": 80,
     "metadata": {},
     "output_type": "execute_result"
    }
   ],
   "source": [
    "data.columns"
   ]
  },
  {
   "cell_type": "code",
   "execution_count": 82,
   "metadata": {},
   "outputs": [
    {
     "name": "stdout",
     "output_type": "stream",
     "text": [
      "Lütfen arabanın markasını giriniz: Nissan\n",
      "Lütfen arabanın üretim yılını giriniz: 2017\n",
      "Lütfen arabanın yakıt tipini giriniz: Benzin\n",
      "Lütfen arabanın vites türünü giriniz: Otomatik\n",
      "Lütfen arabanın kilometresini giriniz: 15000\n",
      "Lütfen arabanın kasa tipini giriniz: Hatchback 5 Kapı \n",
      "Lütfen arabaın motor gücünü giriniz: 80\n"
     ]
    }
   ],
   "source": [
    "Marka = 'marka_' + input(\"Lütfen arabanın markasını giriniz: \")\n",
    "Yıl = int(input(\"Lütfen arabanın üretim yılını giriniz: \"))\n",
    "Yakıt = 'yakit_' + input(\"Lütfen arabanın yakıt tipini giriniz: \")\n",
    "Vites = 'vites_' + input(\"Lütfen arabanın vites türünü giriniz: \");\n",
    "Kilometre =int(input(\"Lütfen arabanın kilometresini giriniz: \"))\n",
    "Kasa_Tipi = 'kasa_tipi' + input(\"Lütfen arabanın kasa tipini giriniz: \")\n",
    "Motor_Gücü = int(input(\"Lütfen arabaın motor gücünü giriniz: \"))\n",
    "\n",
    "\n",
    "user_input = [Marka,Yıl,Yakıt,Vites,Kilometre,Kasa_Tipi, Motor_Gücü]"
   ]
  },
  {
   "cell_type": "code",
   "execution_count": 84,
   "metadata": {
    "scrolled": true
   },
   "outputs": [
    {
     "data": {
      "text/plain": [
       "array([58878.188], dtype=float32)"
      ]
     },
     "execution_count": 84,
     "metadata": {},
     "output_type": "execute_result"
    }
   ],
   "source": [
    "empthy_df = pd.DataFrame(data = np.zeros((1,57)),columns=features)\n",
    "empthy_df\n",
    "for i in user_input:\n",
    "    for j in empthy_df.columns:\n",
    "        if i == j:\n",
    "            empthy_df[j] = 1\n",
    "\n",
    "            empthy_df['yil'] = Yıl\n",
    "empthy_df['km'] = Kilometre\n",
    "empthy_df['motor_gucu_hp'] = Motor_Gücü\n",
    "skewed_feat1 = ['km']\n",
    "skewed_feat2 = ['motor_gucu_hp']\n",
    "empthy_df[skewed_feat1] = np.log(empthy_df[skewed_feat1])\n",
    "empthy_df[skewed_feat2] = np.log(empthy_df[skewed_feat2])\n",
    "prediction = xgboost_Model.predict(empthy_df)\n",
    "np.expm1(prediction)"
   ]
  }
 ],
 "metadata": {
  "kernelspec": {
   "display_name": "Python 3",
   "language": "python",
   "name": "python3"
  },
  "language_info": {
   "codemirror_mode": {
    "name": "ipython",
    "version": 3
   },
   "file_extension": ".py",
   "mimetype": "text/x-python",
   "name": "python",
   "nbconvert_exporter": "python",
   "pygments_lexer": "ipython3",
   "version": "3.8.3"
  }
 },
 "nbformat": 4,
 "nbformat_minor": 2
}
