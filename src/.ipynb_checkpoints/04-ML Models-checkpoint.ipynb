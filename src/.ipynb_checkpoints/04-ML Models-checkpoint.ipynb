{
 "cells": [
  {
   "cell_type": "markdown",
   "metadata": {},
   "source": [
    "**@author:** Dogan Can Demirbilek\n",
    "\n",
    "**@brief:** Just trying different ML algorithms to see the result without making deep analysis and preprocessing.\n",
    "\n",
    "* Clusters can be used and different models can be tried for each cluster since datasets contains luxury, middle-class and cheap cars all together\n",
    "* Models can be tuned by using hyperparamater optimization methods\n",
    "* Deeper cleaning of data can be performed\n",
    "* Different models like deep learning models can be tried"
   ]
  },
  {
   "cell_type": "code",
   "execution_count": null,
   "metadata": {},
   "outputs": [],
   "source": [
    "import numpy as np\n",
    "import pandas as pd\n",
    "%matplotlib inline\n",
    "import matplotlib.pyplot as plt\n",
    "import seaborn as sns\n",
    "from sklearn.cluster import KMeans\n",
    "from scipy.stats import norm, skew\n",
    "from scipy import stats"
   ]
  },
  {
   "cell_type": "code",
   "execution_count": null,
   "metadata": {},
   "outputs": [],
   "source": [
    "data = pd.read_excel('../data/data_merged_filtered.xlsx',index_col=0)\n",
    "data.head()"
   ]
  },
  {
   "cell_type": "code",
   "execution_count": null,
   "metadata": {},
   "outputs": [],
   "source": [
    "data.columns"
   ]
  },
  {
   "cell_type": "code",
   "execution_count": null,
   "metadata": {},
   "outputs": [],
   "source": [
    "silinecekler = ['il','model','motor_hacmi_cc','cekis','garanti','plaka_uyruk','kimden',\n",
    "                'takas','durumu','seri','renk','submodel1','submodel2']\n",
    "for i in silinecekler:\n",
    "    del data[i]"
   ]
  },
  {
   "cell_type": "code",
   "execution_count": null,
   "metadata": {},
   "outputs": [],
   "source": [
    "data.info()"
   ]
  },
  {
   "cell_type": "code",
   "execution_count": null,
   "metadata": {},
   "outputs": [],
   "source": [
    "pd.options.display.float_format = \"{:.2f}\".format\n",
    "data.describe()"
   ]
  },
  {
   "cell_type": "code",
   "execution_count": null,
   "metadata": {},
   "outputs": [],
   "source": [
    "plt.figure(figsize=(12,8))\n",
    "sns.distplot(data['fiyat'] , fit=norm)\n",
    "\n",
    "# Get the fitted parameters used by the function\n",
    "(mu, sigma) = norm.fit(data['fiyat'])\n",
    "print( '\\n mu = {:.2f} and sigma = {:.2f}\\n'.format(mu, sigma))\n",
    "\n",
    "#Now plot the distribution\n",
    "plt.legend(['Normal dist. ($\\mu=$ {:.2f} and $\\sigma=$ {:.2f} )'.format(mu, sigma)],\n",
    "            loc='best')\n",
    "plt.ylabel('Frequency')\n",
    "plt.title('Price distribution')\n",
    "\n",
    "#Get also the QQ-plot\n",
    "fig = plt.figure(figsize=(12,8))\n",
    "res = stats.probplot(data['fiyat'], plot=plt)\n",
    "plt.show()"
   ]
  },
  {
   "cell_type": "code",
   "execution_count": null,
   "metadata": {},
   "outputs": [],
   "source": [
    "#We use the numpy fuction log1p which  applies log(1+x) to all elements of the column\n",
    "Log_transformed_price = np.log1p(data[\"fiyat\"])\n",
    "\n",
    "#Check the new distribution\n",
    "plt.figure(figsize =(12,8))\n",
    "sns.distplot(Log_transformed_price , fit=norm)\n",
    "\n",
    "# Get the fitted parameters used by the function\n",
    "(mu, sigma) = norm.fit(data['fiyat'])\n",
    "print( '\\n mu = {:.2f} and sigma = {:.2f}\\n'.format(mu, sigma))\n",
    "\n",
    "#Now plot the distribution\n",
    "plt.legend(['Normal dist. ($\\mu=$ {:.2f} and $\\sigma=$ {:.2f} )'.format(mu, sigma)],\n",
    "            loc='best')\n",
    "plt.ylabel('Frequency')\n",
    "plt.title('Price distribution')\n",
    "\n",
    "#Get also the QQ-plot\n",
    "fig = plt.figure(figsize=(12,8))\n",
    "res = stats.probplot(Log_transformed_price, plot=plt)\n",
    "plt.show()"
   ]
  },
  {
   "cell_type": "code",
   "execution_count": null,
   "metadata": {},
   "outputs": [],
   "source": [
    "#log transform skewed numeric features:\n",
    "numeric_feats = data.dtypes[data.dtypes != \"object\"].index\n",
    "\n",
    "skewed_feats = data[numeric_feats].apply(lambda x: skew(x.dropna())) #compute skewness\n",
    "skewed_feats = skewed_feats[skewed_feats > 0.75]\n",
    "skewed_feats = skewed_feats.index\n",
    "\n",
    "data[skewed_feats] = np.log1p(data[skewed_feats])"
   ]
  },
  {
   "cell_type": "code",
   "execution_count": null,
   "metadata": {},
   "outputs": [],
   "source": [
    "data = pd.get_dummies(data)"
   ]
  },
  {
   "cell_type": "code",
   "execution_count": null,
   "metadata": {},
   "outputs": [],
   "source": [
    "data.head()"
   ]
  },
  {
   "cell_type": "code",
   "execution_count": null,
   "metadata": {},
   "outputs": [],
   "source": [
    "y = data.fiyat\n",
    "features = [i for i in data.columns if not i == 'fiyat']\n",
    "X = data[features]\n",
    "X.head()"
   ]
  },
  {
   "cell_type": "code",
   "execution_count": null,
   "metadata": {},
   "outputs": [],
   "source": [
    "from sklearn.model_selection import train_test_split\n",
    "X_train, X_test, y_train, y_test = train_test_split(X, y,test_size = 0.33,random_state = 324)"
   ]
  },
  {
   "cell_type": "code",
   "execution_count": null,
   "metadata": {},
   "outputs": [],
   "source": [
    "from xgboost import XGBRegressor\n",
    "from sklearn.linear_model import Ridge, ElasticNet , Lasso\n",
    "from sklearn.ensemble import RandomForestRegressor  \n",
    "from sklearn.metrics import mean_squared_error\n",
    "#sklearn.metrics.mean_squared_error(y_true, y_pred, sample_weight=None, multioutput=’uniform_average’)\n",
    "\n",
    "def mse_cv(y_pred_model):\n",
    "    mse = mean_squared_error(y_true = np.exp(y_test),y_pred = np.exp(y_pred_model)) \n",
    "    return(mse)"
   ]
  },
  {
   "cell_type": "code",
   "execution_count": null,
   "metadata": {},
   "outputs": [],
   "source": [
    "xgboost_Model = XGBRegressor()\n",
    "xgboost_Model.fit(X_train,y_train)"
   ]
  },
  {
   "cell_type": "code",
   "execution_count": null,
   "metadata": {},
   "outputs": [],
   "source": [
    "y_pred_xgboost = xgboost_Model.predict(X_test)\n",
    "print('Mean Squared Error of this model is : ',mse_cv(y_pred_xgboost))\n",
    "print('R2 of this model is : ', xgboost_Model.score(X_train,y_train))"
   ]
  },
  {
   "cell_type": "code",
   "execution_count": null,
   "metadata": {},
   "outputs": [],
   "source": [
    "RandomForest_Model = RandomForestRegressor()\n",
    "RandomForest_Model.fit(X_train,y_train)"
   ]
  },
  {
   "cell_type": "code",
   "execution_count": null,
   "metadata": {},
   "outputs": [],
   "source": [
    "y_pred_randomforest = RandomForest_Model.predict(X_test)\n",
    "print('Mean Squared Error of this model is : ',mse_cv(y_pred_randomforest))\n",
    "print('R2 of this model is : ', RandomForest_Model.score(X_train,y_train))"
   ]
  },
  {
   "cell_type": "code",
   "execution_count": null,
   "metadata": {},
   "outputs": [],
   "source": [
    "alphas = [0.0000005,0.00001,0.0001, 0.05, 0.1, 0.3, 1, 3, 5, 10, 15, 30, 50, 75]\n",
    "for alpha in alphas:\n",
    "    Ridge_Model = Ridge(alpha = alpha)\n",
    "    Ridge_Model.fit(X_train,y_train)\n",
    "    y_pred_ridge = Ridge_Model.predict(X_test)\n",
    "    print(mse_cv(y_pred_ridge))"
   ]
  },
  {
   "cell_type": "code",
   "execution_count": null,
   "metadata": {},
   "outputs": [],
   "source": [
    "Best_Ridge = Ridge(alpha = 1)\n",
    "Best_Ridge.fit(X_train,y_train)\n",
    "y_pred_ridge = Best_Ridge.predict(X_test)\n",
    "print('Mean Squared Error of this model is : ' ,mse_cv(y_pred_ridge))\n",
    "print('R2 of this model is : ',Best_Ridge.score(X_train,y_train))"
   ]
  },
  {
   "cell_type": "code",
   "execution_count": null,
   "metadata": {},
   "outputs": [],
   "source": [
    "lass_model = Lasso(alpha = 1)\n",
    "lass_model.fit(X_train,y_train)\n",
    "y_pred_lasso = lass_model.predict(X_test)\n",
    "print('Mean Squared Error of this model is : ' ,mse_cv(y_pred_lasso))\n",
    "print('R2 of this model is : ',lass_model.score(X_train,y_train))"
   ]
  },
  {
   "cell_type": "code",
   "execution_count": null,
   "metadata": {},
   "outputs": [],
   "source": [
    "Elastic_Model = ElasticNet(alpha = 0.0001,max_iter=5000)\n",
    "Elastic_Model.fit(X_train,y_train)\n",
    "y_pred_elastic = Elastic_Model.predict(X_test)\n",
    "print(mse_cv(y_pred_elastic))"
   ]
  },
  {
   "cell_type": "code",
   "execution_count": null,
   "metadata": {},
   "outputs": [],
   "source": [
    "y_pred_xgboost_series = pd.Series(np.exp(y_pred_xgboost),name='XGBoost')\n",
    "y_pred_randomforest_series = pd.Series(np.exp(y_pred_randomforest),name='Random Forest')\n",
    "y_pred_ridge_series = pd.Series(np.exp(y_pred_ridge),name='Ridge')\n",
    "y_pred_lasso_series = pd.Series(np.exp(y_pred_lasso),name='Lasso')\n",
    "y_pred_elastic_series = pd.Series(np.exp(y_pred_elastic),name='Elastic')\n",
    "y_real = pd.Series(np.exp(y_test).values,name='Y_Real')"
   ]
  },
  {
   "cell_type": "code",
   "execution_count": null,
   "metadata": {},
   "outputs": [],
   "source": [
    "prediction_list = [y_real,y_pred_xgboost_series,y_pred_randomforest_series,y_pred_ridge_series,\n",
    "                   y_pred_lasso_series,y_pred_elastic_series]"
   ]
  },
  {
   "cell_type": "code",
   "execution_count": null,
   "metadata": {},
   "outputs": [],
   "source": [
    "all_predictions = pd.concat(prediction_list,axis=1)"
   ]
  },
  {
   "cell_type": "code",
   "execution_count": null,
   "metadata": {},
   "outputs": [],
   "source": [
    "all_predictions.info()"
   ]
  },
  {
   "cell_type": "code",
   "execution_count": null,
   "metadata": {},
   "outputs": [],
   "source": [
    "all_predictions.head()"
   ]
  },
  {
   "cell_type": "code",
   "execution_count": null,
   "metadata": {},
   "outputs": [],
   "source": [
    "data.columns"
   ]
  },
  {
   "cell_type": "code",
   "execution_count": null,
   "metadata": {},
   "outputs": [],
   "source": [
    "Marka = 'marka_' + input(\"Lütfen arabanın markasını giriniz: \")\n",
    "Yıl = int(input(\"Lütfen arabanın üretim yılını giriniz: \"))\n",
    "Yakıt = 'yakit_' + input(\"Lütfen arabanın yakıt tipini giriniz: \")\n",
    "Vites = 'vites_' + input(\"Lütfen arabanın vites türünü giriniz: \");\n",
    "Kilometre =int(input(\"Lütfen arabanın kilometresini giriniz: \"))\n",
    "Kasa_Tipi = 'kasa_tipi' + input(\"Lütfen arabanın kasa tipini giriniz: \")\n",
    "Motor_Gücü = int(input(\"Lütfen arabaın motor gücünü giriniz: \"))\n",
    "\n",
    "\n",
    "user_input = [Marka,Yıl,Yakıt,Vites,Kilometre,Kasa_Tipi, Motor_Gücü]"
   ]
  },
  {
   "cell_type": "code",
   "execution_count": null,
   "metadata": {
    "scrolled": true
   },
   "outputs": [],
   "source": [
    "empthy_df = pd.DataFrame(data = np.zeros((1,57)),columns=features)\n",
    "empthy_df\n",
    "for i in user_input:\n",
    "    for j in empthy_df.columns:\n",
    "        if i == j:\n",
    "            empthy_df[j] = 1\n",
    "\n",
    "            empthy_df['yil'] = Yıl\n",
    "empthy_df['km'] = Kilometre\n",
    "empthy_df['motor_gucu_hp'] = Motor_Gücü\n",
    "skewed_feat1 = ['km']\n",
    "skewed_feat2 = ['motor_gucu_hp']\n",
    "empthy_df[skewed_feat1] = np.log(empthy_df[skewed_feat1])\n",
    "empthy_df[skewed_feat2] = np.log(empthy_df[skewed_feat2])\n",
    "prediction = xgboost_Model.predict(empthy_df)\n",
    "np.expm1(prediction)"
   ]
  }
 ],
 "metadata": {
  "kernelspec": {
   "display_name": "Python 3",
   "language": "python",
   "name": "python3"
  },
  "language_info": {
   "codemirror_mode": {
    "name": "ipython",
    "version": 3
   },
   "file_extension": ".py",
   "mimetype": "text/x-python",
   "name": "python",
   "nbconvert_exporter": "python",
   "pygments_lexer": "ipython3",
   "version": "3.8.3"
  }
 },
 "nbformat": 4,
 "nbformat_minor": 2
}
