{
 "cells": [
  {
   "cell_type": "markdown",
   "metadata": {},
   "source": [
    "**@author:** Orhan Solak\n",
    "**@brief:** Scrapping car data from web with and preprocessing raw data "
   ]
  },
  {
   "cell_type": "code",
   "execution_count": null,
   "metadata": {
    "colab": {},
    "colab_type": "code",
    "id": "YIRc73OYPlzZ"
   },
   "outputs": [],
   "source": [
    "arabalar_son= [\"alfa-romeo\",\"aston-martin\",\"audi\",\"bentley\",\"bmw\",\"cadillac\",\"chevrolet\",\n",
    "            \"chrysler\",\"citroen\",\"dacia\",\"ferrari\",\"fiat\",\"ford\",\"honda\",\n",
    "            \"hyundai\",\"jaguar\",\"kia\",\"lada\",\"lamborghini\",\"lancia\",\"maserati\",\n",
    "            \"mazda\",\"mercedes-benz\",\"mini\",\"mitsibushi\",\"nissan\",\"opel\",\"peugeot\",\n",
    "           \"porsche\",\"renault\",\"rolls-royce\",\"rover\",\"seat\",\"skoda\",\"smart\",\"subaru\",\n",
    "           \"suzuki\",\"tata\",\"tesla\",\"tofas\",\"toyota\",\"volkswagen\",\"volvo\"]\n",
    "\n",
    "arabalar = [\"alfa-romeo\",\"aston-martin\",\n",
    "            \"chrysler\",\"citroen\"]\n",
    "\n",
    "arabalar_2 = [\"audi\",\"bentley\",\"bmw\",\"cadillac\",\"chevrolet\",\n",
    "            \"dacia\",\"ferrari\",\"fiat\",\"ford\",\"honda\",\n",
    "            \"hyundai\",\"jaguar\",\"kia\",\"lada\",\"lamborghini\",\"lancia\",\"maserati\",\n",
    "            \"mazda\",\"mercedes-benz\",\"mini\",\"mitsibushi\",\"nissan\",\"opel\",\"peugeot\",\n",
    "           \"porsche\",\"renault\",\"rolls-royce\",\"rover\",\"seat\",\"skoda\",\"smart\",\"subaru\",\n",
    "           \"suzuki\",\"tata\",\"tesla\",\"tofas\",\"toyota\",\"volkswagen\",\"volvo\"]\n",
    "#son30gun_azalan = \"https://www.sahibinden.com/kia?date=30days&pagingOffset=50&pagingSize=50&sorting=date_desc\"\n",
    "#son30gun_artan = \"https://www.sahibinden.com/kia?date=30days&pagingOffset=250&pagingSize=50&sorting=date_asc\"\n",
    "liste_ellilik = []\n",
    "x1 = \"https://www.sahibinden.com/\"\n",
    "x2 = \"?date=30days&pagingOffset=\"\n",
    "x3 = \"&pagingSize=50&sorting=date_asc\"\n",
    "x4 = \"&pagingSize=50&sorting=date_desc\"\n",
    "sayfasayilari= [\"50\",\"100\",\"150\",\"200\",\"250\",\"300\",\"350\",\"400\",\"450\",\"500\",\"550\",\"600\",\"650\",\"700\",\"750\",\"800\",\"850\",\"900\",\"950\"]\n",
    "\n",
    "for i in arabalar_2:\n",
    "    for k in sayfasayilari:\n",
    "        url1 = x1,i,x2,k,x3\n",
    "        url1 = ''.join(url1)\n",
    "        link1 = url1        \n",
    "        link1 = link1.replace(' ', '')\n",
    "        liste_ellilik.append(link1)\n",
    "        \n",
    "        #print(link1)\n",
    "        url2 = x1,i,x2,k,x4\n",
    "        url2 = ''.join(url2)\n",
    "        link2 = url2\n",
    "        link2 = link2.replace(' ', '')\n",
    "        liste_ellilik.append(link2)\n",
    "        #print(link2)"
   ]
  },
  {
   "cell_type": "code",
   "execution_count": null,
   "metadata": {
    "colab": {},
    "colab_type": "code",
    "id": "kWfY41IlPlze",
    "outputId": "b5f907c8-349b-4371-f0e8-3ddc53a11aff"
   },
   "outputs": [],
   "source": [
    "liste_ellilik"
   ]
  },
  {
   "cell_type": "code",
   "execution_count": null,
   "metadata": {
    "colab": {},
    "colab_type": "code",
    "id": "Lu7CGsmBPlzj",
    "outputId": "51b773b7-fa0c-4eea-c8f8-c8c6c0983d34"
   },
   "outputs": [],
   "source": [
    "print(len(liste_ellilik))"
   ]
  },
  {
   "cell_type": "code",
   "execution_count": null,
   "metadata": {
    "colab": {},
    "colab_type": "code",
    "id": "t_ylN6pKPlzn",
    "outputId": "63ad408f-cc44-4e7a-9634-c2095e7990c3",
    "scrolled": true
   },
   "outputs": [],
   "source": [
    "import pandas as pd\n",
    "import numpy as np\n",
    "import requests, bs4\n",
    "from scrapy.selector import Selector\n",
    "from scrapy.http import HtmlResponse\n",
    "from bs4 import BeautifulSoup\n",
    "\n",
    "sayac = 0\n",
    "headers = {\"User-Agent\":\"Mozilla/5.0\"}\n",
    "#resp = requests.get(\"https://www.sahibinden.com/audi?pagingSize=50\",headers=headers)\n",
    "#soup = BeautifulSoup(resp, from_encoding=resp.info().get_param('charset'))\n",
    "\n",
    "#ellilik_ilanlar = [\"https://www.sahibinden.com/aston-martin?pagingSize=50\"]\n",
    "mylist = []\n",
    "for zaa in liste_ellilik:\n",
    "   # Getting the webpage, creating a Response object.\n",
    "    response = requests.get(zaa,headers=headers)\n",
    "\n",
    "    # Extracting the source code of the page.\n",
    "    data = response.text\n",
    "\n",
    "    # Passing the source code to BeautifulSoup to create a BeautifulSoup object for it.\n",
    "    soup = BeautifulSoup(data, 'lxml')\n",
    "\n",
    "    # Extracting all the <a> tags into a list.\n",
    "    tags = soup.find_all('a')\n",
    "\n",
    "    # Extracting URLs from the attribute href in the <a> tags.\n",
    "    for tag in tags:\n",
    "        mylist.append(str(tag.get('href')))\n",
    "    sayac+= 1\n",
    "    print(sayac)\n",
    "\n",
    "##Listeyi çektikten sonra dataframe e çeviriyoruz temizlemek için    \n",
    "dfurl = pd.DataFrame(data=mylist)\n",
    "print(len(dfurl))"
   ]
  },
  {
   "cell_type": "code",
   "execution_count": null,
   "metadata": {
    "colab": {},
    "colab_type": "code",
    "id": "JKOOEV1DPlzq",
    "outputId": "4d852757-c623-4cf7-e7a5-94a144308411"
   },
   "outputs": [],
   "source": [
    "# DataFramedeki 2 tane olan ilanları atıyoruz\n",
    "dfurl = dfurl.drop_duplicates()\n",
    "print(len(dfurl))"
   ]
  },
  {
   "cell_type": "code",
   "execution_count": null,
   "metadata": {
    "colab": {},
    "colab_type": "code",
    "id": "oS_oyS8HPlzu",
    "outputId": "567009ad-0a11-4b1e-ad15-3c13b0ac8879"
   },
   "outputs": [],
   "source": [
    "mask = (dfurl[0].str.contains(\"/vasita-otomobil\"))\n",
    "dfurl = dfurl.loc[mask]\n",
    "#Belirli string karekterinden uzun url leri alıyoruz. Filtering...\n",
    "print(len(dfurl))"
   ]
  },
  {
   "cell_type": "code",
   "execution_count": null,
   "metadata": {
    "colab": {},
    "colab_type": "code",
    "id": "uFx2JN-xPlzx",
    "scrolled": true
   },
   "outputs": [],
   "source": [
    "#En son işlem yapacağımız zaman tekrardan dataframe'mizi listeye çeviriyoruz\n",
    "sonliste = []\n",
    "sonliste = dfurl[0].tolist()"
   ]
  },
  {
   "cell_type": "code",
   "execution_count": null,
   "metadata": {
    "colab": {},
    "colab_type": "code",
    "id": "hP-ciq79Plz1"
   },
   "outputs": [],
   "source": [
    "string = 'https://www.sahibinden.com'\n",
    "sonlisteyeni = [string + eleman for eleman in sonliste]"
   ]
  },
  {
   "cell_type": "code",
   "execution_count": null,
   "metadata": {
    "colab": {},
    "colab_type": "code",
    "id": "9b8OvGtHPlz5"
   },
   "outputs": [],
   "source": [
    "baslik_liste = []\n",
    "il_liste = []\n",
    "ilce_liste = []\n",
    "mahalle_liste = []\n",
    "fiyat_liste = []\n",
    "para_birimi_liste = []\n",
    "ilan_no_liste = []\n",
    "ilan_tarihi_liste = []\n",
    "marka_liste = []\n",
    "seri_liste = []\n",
    "model_liste = []\n",
    "yil_liste = []\n",
    "yakit_liste = []\n",
    "vites_liste = []\n",
    "km_liste = []\n",
    "kasa_tipi_liste = []\n",
    "motor_gucu_liste = []\n",
    "motor_hacmi_liste = []\n",
    "cekis_liste = []\n",
    "renk_liste = []\n",
    "garanti_liste = []\n",
    "plaka_uyruk_liste = []\n",
    "kimden_liste = []\n",
    "takas_liste = []\n",
    "durumu_liste = []\n",
    "telefon_liste = []\n",
    "ilan_sahibi_liste = []"
   ]
  },
  {
   "cell_type": "code",
   "execution_count": null,
   "metadata": {
    "colab": {},
    "colab_type": "code",
    "id": "BlrauH3uPlz8",
    "outputId": "e2f5add6-434a-4fb4-e573-f89234f46de4"
   },
   "outputs": [],
   "source": [
    "len(sonlisteyeni)"
   ]
  },
  {
   "cell_type": "code",
   "execution_count": null,
   "metadata": {
    "colab": {},
    "colab_type": "code",
    "id": "D8ccmqfmPlz_"
   },
   "outputs": [],
   "source": [
    "import pandas as pd\n",
    "import numpy as np\n",
    "import requests, bs4\n",
    "from scrapy.selector import Selector\n",
    "from scrapy.http import HtmlResponse\n",
    "from bs4 import BeautifulSoup\n",
    "\n",
    "\n",
    "#Xpath şeylerini uygulayabilmek için bu modülleri içeri aktarıyoruz.\n",
    "from scrapy.selector import Selector\n",
    "from scrapy.http import HtmlResponse\n",
    "#Xpath leri bir değişkene atıyoruz.\n",
    "\n",
    "baslik_xpath = \"normalize-space(//div[@class='classifiedDetailTitle']/h1)\"\n",
    "\n",
    "il_xpath = \"normalize-space(substring-before(normalize-space(//div[@class='classifiedInfo ']/h2), '/'))\"\n",
    "ilce_xpath = \"normalize-space(substring-before(substring-after(normalize-space(//div[@class='classifiedInfo ']/h2), '/'),'/' ))\"\n",
    "mahalle_xpath = \"normalize-space(substring-after(substring-after(normalize-space(//div[@class='classifiedInfo ']/h2), '/'),'/' ))\"\n",
    "fiyat_xpath = \"concat(substring(concat(substring(substring-after(normalize-space(//div[@class='classifiedInfo ']/h3/text()),'€'),0 div boolean(substring-after(normalize-space(//div[@class='classifiedInfo ']/h3/text()),'€'))),substring(substring-before(normalize-space(//div[@class='classifiedInfo ']/h3/text()),'TL'),0 div not(substring-after(normalize-space(//div[@class='classifiedInfo ']/h3/text()),'€')))),0 div boolean(concat(substring(substring-after(normalize-space(//div[@class='classifiedInfo ']/h3/text()),'€'),0 div boolean(substring-after(normalize-space(//div[@class='classifiedInfo ']/h3/text()),'€'))),substring(substring-before(normalize-space(//div[@class='classifiedInfo ']/h3/text()),'TL'),0 div not(substring-after(normalize-space(//div[@class='classifiedInfo ']/h3/text()),'€')))))),substring(concat(substring(substring-after(normalize-space(//div[@class='classifiedInfo ']/h3/text()),'$'),0 div boolean(substring-after(normalize-space(//div[@class='classifiedInfo ']/h3/text()),'$'))),substring(substring-after(normalize-space(//div[@class='classifiedInfo ']/h3/text()),'₤'),0 div not(substring-after(normalize-space(//div[@class='classifiedInfo ']/h3/text()),'$')))),0 div not(concat(substring(substring-after(normalize-space(//div[@class='classifiedInfo ']/h3/text()),'€'),0 div boolean(substring-after(normalize-space(//div[@class='classifiedInfo ']/h3/text()),'€'))),substring(substring-before(normalize-space(//div[@class='classifiedInfo ']/h3/text()),'TL'),0 div not(substring-after(normalize-space(//div[@class='classifiedInfo ']/h3/text()),'€')))))))\"\n",
    "para_birimi_xpath = \"concat(substring('TL',0 div boolean(contains(normalize-space(//div[@class='classifiedInfo ']/h3/text()),'TL'))),substring('$',0 div boolean(contains(normalize-space(//div[@class='classifiedInfo ']/h3/text()),'$'))),substring('€',0 div boolean(contains(normalize-space(//div[@class='classifiedInfo ']/h3/text()),'€'))),substring('₤',0 div boolean(contains(normalize-space(//div[@class='classifiedInfo ']/h3/text()),'₤'))))\"\n",
    "\n",
    "ilan_no_xpath = \"normalize-space(//ul[@class='classifiedInfoList']//strong[contains(.,'İlan No')]//following::span)\"\n",
    "ilan_tarihi_xpath = \"normalize-space(//ul[@class='classifiedInfoList']//strong[contains(.,'İlan Tarihi')]//following::span)\"\n",
    "marka_xpath = \"normalize-space(//ul[@class='classifiedInfoList']//strong[contains(.,'Marka')]//following::span)\"\n",
    "seri_xpath = \"normalize-space(//ul[@class='classifiedInfoList']//strong[contains(.,'Seri')]//following::span)\"\n",
    "model_xpath = \"normalize-space(//ul[@class='classifiedInfoList']//strong[contains(.,'Model')]//following::span)\"\n",
    "yil_xpath = \"normalize-space(//ul[@class='classifiedInfoList']//strong[contains(.,'Yıl')]//following::span)\"\n",
    "yakit_xpath = \"normalize-space(//ul[@class='classifiedInfoList']//strong[contains(.,'Yakıt')]//following::span)\"\n",
    "vites_xpath = \"normalize-space(//ul[@class='classifiedInfoList']//strong[contains(.,'Vites')]//following::span)\"\n",
    "km_xpath = \"normalize-space(//ul[@class='classifiedInfoList']//strong[contains(.,'KM')]//following::span)\"\n",
    "kasa_tipi_xpath = \"normalize-space(//ul[@class='classifiedInfoList']//strong[contains(.,'Kasa Tipi')]//following::span)\"\n",
    "motor_gucu_xpath = \"substring-before(normalize-space(//ul[@class='classifiedInfoList']//strong[contains(.,'Motor Gücü')]//following::span),' ')\"\n",
    "motor_hacmi_xpath = \"substring-before(normalize-space(//ul[@class='classifiedInfoList']//strong[contains(.,'Motor Hacmi')]//following::span),' ')\"\n",
    "cekis_xpath = \"substring-before(normalize-space(//ul[@class='classifiedInfoList']//strong[contains(.,'Çekiş')]//following::span),' ')\"\n",
    "renk_xpath = \"normalize-space(//ul[@class='classifiedInfoList']//strong[contains(.,'Renk')]//following::span)\"\n",
    "garanti_xpath = \"normalize-space(//ul[@class='classifiedInfoList']//strong[contains(.,'Garanti')]//following::span)\"\n",
    "plaka_uyruk_xpath = \"normalize-space(//ul[@class='classifiedInfoList']//strong[contains(.,'Plaka / Uyruk')]//following::span)\"\n",
    "kimden_xpath = \"normalize-space(//ul[@class='classifiedInfoList']//strong[contains(.,'Kimden')]//following::span)\"\n",
    "takas_xpath = \"normalize-space(//ul[@class='classifiedInfoList']//strong[contains(.,'Takas')]//following::span)\"\n",
    "durumu_xpath = \"normalize-space(//ul[@class='classifiedInfoList']//strong[contains(.,'Durumu')]//following::span)\"\n",
    "\n",
    "telefon_xpath = \"normalize-space(//ul[@class='userContactInfo'])\"\n",
    "ilan_sahibi_xpath = \"concat(normalize-space(//div[@class='storeBox ']),'|',normalize-space(//div[@class='username-info-area']))\"\n",
    "#aciklamalar_xpath:\"normalize-space(//div[@class='uiBox'])\""
   ]
  },
  {
   "cell_type": "code",
   "execution_count": null,
   "metadata": {
    "colab": {},
    "colab_type": "code",
    "id": "PgFvivvuPl0C",
    "outputId": "96401bfd-5d84-4cfd-9e92-01881b132a28",
    "scrolled": true
   },
   "outputs": [],
   "source": [
    "\n",
    "\n",
    "#Sonlist'teki yer alan url lerin her biri için xpath leri for döngüsüyle uyguluyoruz.\n",
    "#Elde ettiğimiz sonuçları sırasıyla boş listelere append ediyoruz.\n",
    "#Eger ki başka bir alakasız url bulup ona xpath uygulamaya çalılırsa try except blogundan otomatik düşüyor.\n",
    "#İşlem uzun sürüyor, şekildeki gibi i=0 yaparak nerde oldugunu görebiliriz\n",
    "i=0\n",
    "#urller = ['https://www.sahibinden.com/ilan/vasita-otomobil-mercedes-benz-szg-motors-tan-mercedes-benz-c180-blueefficiency-amg-hatasiz-502547079/detay']\n",
    "headers = {\"User-Agent\":\"Mozilla/5.0\"}\n",
    "for link in sonlisteyeni:\n",
    "    try:\n",
    "        page = requests.get(link, headers=headers)\n",
    "        baslik = Selector(text=page.text).xpath(baslik_xpath).extract()[0]\n",
    "        baslik_liste.append(baslik)\n",
    "\n",
    "        il = Selector(text=page.text).xpath(il_xpath).extract()[0]\n",
    "        il_liste.append(il)\n",
    "\n",
    "        ilce = Selector(text=page.text).xpath(ilce_xpath).extract()[0]\n",
    "        ilce_liste.append(ilce)\n",
    "\n",
    "        mahalle = Selector(text=page.text).xpath(mahalle_xpath).extract()[0]\n",
    "        mahalle_liste.append(mahalle)\n",
    "\n",
    "        fiyat = Selector(text=page.text).xpath(fiyat_xpath).extract()[0]\n",
    "        fiyat_liste.append(fiyat)\n",
    "\n",
    "        para_birimi = Selector(text=page.text).xpath(para_birimi_xpath).extract()[0]\n",
    "        para_birimi_liste.append(para_birimi)\n",
    "\n",
    "        ilan_no = Selector(text=page.text).xpath(ilan_no_xpath).extract()[0]\n",
    "        ilan_no_liste.append(ilan_no)\n",
    "\n",
    "        ilan_tarihi = Selector(text=page.text).xpath(ilan_tarihi_xpath).extract()[0]\n",
    "        ilan_tarihi_liste.append(ilan_tarihi)\n",
    "\n",
    "        marka = Selector(text=page.text).xpath(marka_xpath).extract()[0]\n",
    "        marka_liste.append(marka)\n",
    "\n",
    "        seri = Selector(text=page.text).xpath(seri_xpath).extract()[0]\n",
    "        seri_liste.append(seri)\n",
    "\n",
    "        model = Selector(text=page.text).xpath(model_xpath).extract()[0]\n",
    "        model_liste.append(model)\n",
    "\n",
    "        yil = Selector(text=page.text).xpath(yil_xpath).extract()[0]\n",
    "        yil_liste.append(yil)\n",
    "\n",
    "        yakit = Selector(text=page.text).xpath(yakit_xpath).extract()[0]\n",
    "        yakit_liste.append(yakit)\n",
    "\n",
    "        vites = Selector(text=page.text).xpath(vites_xpath).extract()[0]\n",
    "        vites_liste.append(vites)\n",
    "\n",
    "        km = Selector(text=page.text).xpath(km_xpath).extract()[0]\n",
    "        km_liste.append(km)\n",
    "\n",
    "        kasa_tipi = Selector(text=page.text).xpath(kasa_tipi_xpath).extract()[0]\n",
    "        kasa_tipi_liste.append(kasa_tipi)\n",
    "\n",
    "        motor_gucu = Selector(text=page.text).xpath(motor_gucu_xpath).extract()[0]\n",
    "        motor_gucu_liste.append(motor_gucu)\n",
    "\n",
    "        motor_hacmi = Selector(text=page.text).xpath(motor_hacmi_xpath).extract()[0]\n",
    "        motor_hacmi_liste.append(motor_hacmi)\n",
    "\n",
    "        cekis = Selector(text=page.text).xpath(cekis_xpath).extract()[0]\n",
    "        cekis_liste.append(cekis)\n",
    "\n",
    "        renk = Selector(text=page.text).xpath(renk_xpath).extract()[0]\n",
    "        renk_liste.append(renk)\n",
    "\n",
    "        garanti = Selector(text=page.text).xpath(garanti_xpath).extract()[0]\n",
    "        garanti_liste.append(garanti)\n",
    "\n",
    "        plaka_uyruk = Selector(text=page.text).xpath(plaka_uyruk_xpath).extract()[0]\n",
    "        plaka_uyruk_liste.append(plaka_uyruk)\n",
    "\n",
    "        kimden = Selector(text=page.text).xpath(kimden_xpath).extract()[0]\n",
    "        kimden_liste.append(kimden)\n",
    "\n",
    "        takas = Selector(text=page.text).xpath(takas_xpath).extract()[0]\n",
    "        takas_liste.append(takas)\n",
    "\n",
    "        durumu = Selector(text=page.text).xpath(durumu_xpath).extract()[0]\n",
    "        durumu_liste.append(durumu)\n",
    "            \n",
    "        telefon = Selector(text=page.text).xpath(telefon_xpath).extract()[0]\n",
    "        telefon_liste.append(telefon)\n",
    "            \n",
    "        ilan_sahibi = Selector(text=page.text).xpath(ilan_sahibi_xpath).extract()[0]\n",
    "        ilan_sahibi_liste.append(ilan_sahibi)\n",
    "\n",
    "        #aciklamalar = Selector(text=page.text).xpath(aciklamalar_xpath).extract()[0]\n",
    "\n",
    "    except:\n",
    "        pass\n",
    "    \n",
    "    i+=1\n",
    "    print(i)"
   ]
  },
  {
   "cell_type": "code",
   "execution_count": null,
   "metadata": {
    "colab": {},
    "colab_type": "code",
    "id": "ALuzho8TPl0H",
    "outputId": "967b1827-783c-44d8-d23d-9834e9b90526"
   },
   "outputs": [],
   "source": [
    "print(len(baslik_liste))\n",
    "print(len(il_liste))\n",
    "print(len(ilce_liste))\n",
    "print(len(mahalle_liste))\n",
    "print(len(fiyat_liste))\n",
    "print(len(para_birimi_liste))\n",
    "print(len(ilan_no_liste))\n",
    "print(len(ilan_tarihi_liste))\n",
    "print(len(marka_liste))\n",
    "print(len(seri_liste))\n",
    "print(len(model_liste))\n",
    "print(len(yil_liste))\n",
    "print(len(yakit_liste))\n",
    "print(len(vites_liste))\n",
    "print(len(km_liste))\n",
    "print(len(kasa_tipi_liste))\n",
    "print(len(motor_gucu_liste))\n",
    "print(len(motor_hacmi_liste))\n",
    "print(len(cekis_liste))\n",
    "print(len(renk_liste))\n",
    "print(len(garanti_liste))\n",
    "print(len(plaka_uyruk_liste))\n",
    "print(len(kimden_liste))\n",
    "print(len(takas_liste))\n",
    "print(len(durumu_liste))\n",
    "print(len(telefon_liste))\n",
    "print(len(ilan_sahibi_liste))"
   ]
  },
  {
   "cell_type": "code",
   "execution_count": null,
   "metadata": {
    "colab": {},
    "colab_type": "code",
    "id": "ERsv3hV8Pl0K"
   },
   "outputs": [],
   "source": [
    "#Listeleri ev bilgileriyle doldurtuktan sonra sütun isimlerine göre dataframe e çeviriyoruz.\n",
    "kolon_adlari=['baslik','il','ilce','mahalle','fiyat','para_birimi','ilan_no',\n",
    "              'ilan_tarihi','marka','seri','model','yil','yakit','vites','km',\n",
    "              'kasa_tipi','motor_gucu_hp','motor_hacmi_cc','cekis','renk','garanti',\n",
    "              'plaka_uyruk','kimden','takas','durumu','telefon','ilan_sahibi']\n",
    "d = {'baslik': baslik_liste,\n",
    "     'il': il_liste,\n",
    "     'ilce': ilce_liste,\n",
    "     'mahalle': mahalle_liste,\n",
    "     'fiyat': fiyat_liste,\n",
    "     'para_birimi': para_birimi_liste,\n",
    "     'ilan_no': ilan_no_liste,\n",
    "     'ilan_tarihi': ilan_tarihi_liste,\n",
    "     'marka': marka_liste,\n",
    "     'seri': seri_liste,\n",
    "     'model': model_liste,\n",
    "     'yil': yil_liste,\n",
    "     'yakit': yakit_liste,\n",
    "     'vites': vites_liste,\n",
    "     'km': km_liste,\n",
    "     'kasa_tipi': kasa_tipi_liste,\n",
    "     'motor_gucu_hp': motor_gucu_liste,\n",
    "     'motor_hacmi_cc': motor_hacmi_liste,\n",
    "     'cekis': cekis_liste,\n",
    "     'renk': renk_liste,\n",
    "     'garanti': garanti_liste,\n",
    "     'plaka_uyruk': plaka_uyruk_liste,\n",
    "     'kimden': kimden_liste,\n",
    "     'takas': takas_liste,\n",
    "     'durumu': durumu_liste,\n",
    "     'telefon': telefon_liste,\n",
    "     'ilan_sahibi': ilan_sahibi_liste    \n",
    "    }\n",
    "\n",
    "df = pd.DataFrame(data=d, columns=kolon_adlari)"
   ]
  },
  {
   "cell_type": "code",
   "execution_count": null,
   "metadata": {
    "colab": {},
    "colab_type": "code",
    "id": "33tjKzHsPl0N",
    "outputId": "87c1d6ef-234b-4ddd-cb21-413303787bc0"
   },
   "outputs": [],
   "source": [
    "df.dtypes"
   ]
  },
  {
   "cell_type": "code",
   "execution_count": null,
   "metadata": {
    "colab": {},
    "colab_type": "code",
    "id": "yYxXi6zlPl0Q",
    "outputId": "2c9ab5a0-c526-4907-914a-ccbdffea15f3"
   },
   "outputs": [],
   "source": [
    "len(df)"
   ]
  },
  {
   "cell_type": "code",
   "execution_count": null,
   "metadata": {
    "colab": {},
    "colab_type": "code",
    "id": "IcYjtK9APl0S"
   },
   "outputs": [],
   "source": [
    "df.replace('', np.nan, inplace=True)"
   ]
  },
  {
   "cell_type": "code",
   "execution_count": null,
   "metadata": {
    "colab": {},
    "colab_type": "code",
    "id": "qbCmsqJBPl0V",
    "outputId": "1f428441-24ee-4ada-e6c8-511db3224a2e"
   },
   "outputs": [],
   "source": [
    "print (df.ix[2609])"
   ]
  },
  {
   "cell_type": "code",
   "execution_count": null,
   "metadata": {
    "colab": {},
    "colab_type": "code",
    "id": "U--MQtuLPl0Z"
   },
   "outputs": [],
   "source": [
    "df = df.dropna(axis=0, how='any')"
   ]
  },
  {
   "cell_type": "code",
   "execution_count": null,
   "metadata": {
    "colab": {},
    "colab_type": "code",
    "id": "19oSOibQPl0b",
    "outputId": "6783a7be-a2be-4249-eecc-c96e508813fa"
   },
   "outputs": [],
   "source": [
    "len(df)"
   ]
  },
  {
   "cell_type": "code",
   "execution_count": null,
   "metadata": {
    "colab": {},
    "colab_type": "code",
    "id": "htACcCQdPl0h",
    "outputId": "8071267d-613c-4435-9ac4-5f669301ad0d"
   },
   "outputs": [],
   "source": [
    "pd.unique(df['para_birimi'])\n",
    "df['fiyat']\n"
   ]
  },
  {
   "cell_type": "code",
   "execution_count": null,
   "metadata": {
    "colab": {},
    "colab_type": "code",
    "id": "ZJMqU8jHPl0j",
    "outputId": "aa2e1adf-5e82-40d1-b638-f1eb94525627"
   },
   "outputs": [],
   "source": [
    "df['fiyat']=df['fiyat'].str.replace('.', '')\n",
    "df['fiyat']=df['fiyat'].astype(float)\n",
    "i = 0\n",
    "while i < len(df):\n",
    "    try:\n",
    "        if df['para_birimi'][i] =='€':\n",
    "            df['fiyat'][i] = df['fiyat'][i]*4.71\n",
    "            df['para_birimi'][i] = 'TL'\n",
    "        elif df['para_birimi'][i] =='$':\n",
    "            df['fiyat'][i] = df['fiyat'][i]*3.94\n",
    "            df['para_birimi'][i] = 'TL'\n",
    "        elif df['para_birimi'][i] =='£':\n",
    "            df['fiyat'][i] = df['fiyat'][i]*5.26\n",
    "            df['para_birimi'][i] = 'TL'\n",
    "    except:\n",
    "        pass\n",
    "    i+=1\n",
    "    print(i)"
   ]
  },
  {
   "cell_type": "code",
   "execution_count": null,
   "metadata": {
    "colab": {},
    "colab_type": "code",
    "id": "7bX_h22nPl0m"
   },
   "outputs": [],
   "source": [
    "df['km']=df['km'].str.replace('.', '')\n",
    "df['km']=df['km'].astype(int)\n",
    "df['yil']=df['yil'].astype(int)\n",
    "df['motor_gucu_hp']=df['motor_gucu_hp'].astype(int)\n",
    "df['motor_hacmi_cc']=df['motor_hacmi_cc'].astype(int)\n",
    "df['model']=df['model'].str.replace(u'\\xa0', u'')\n",
    "df['marka']=df['marka'].str.replace(u'\\xa0', u'')\n",
    "df['seri']=df['seri'].str.replace(u'\\xa0', u'')"
   ]
  },
  {
   "cell_type": "code",
   "execution_count": null,
   "metadata": {
    "colab": {},
    "colab_type": "code",
    "id": "Irg62xxkPl0p"
   },
   "outputs": [],
   "source": [
    "#Data Framemimizi csv. formatında basıyoruz.\n",
    "writer = pd.ExcelWriter('arabalarsahibinden.xlsx', engine='xlsxwriter')\n",
    "df.to_excel(writer, sheet_name='Sheet1')"
   ]
  },
  {
   "cell_type": "code",
   "execution_count": null,
   "metadata": {
    "colab": {},
    "colab_type": "code",
    "id": "MstZe_7UPl0r",
    "outputId": "9f2c0f0b-6bf0-4c68-9fce-b278b957c9ef",
    "scrolled": false
   },
   "outputs": [],
   "source": [
    "df.dtypes"
   ]
  },
  {
   "cell_type": "code",
   "execution_count": null,
   "metadata": {
    "colab": {},
    "colab_type": "code",
    "id": "RvKU6VUmPl0u",
    "outputId": "d2d4b32d-e9b3-452a-e348-c8425142b398"
   },
   "outputs": [],
   "source": [
    "pd.unique(df['para_birimi'])"
   ]
  }
 ],
 "metadata": {
  "colab": {
   "name": "Sahibinden Veri Cekme Full.ipynb",
   "provenance": []
  },
  "kernelspec": {
   "display_name": "Python 3",
   "language": "python",
   "name": "python3"
  },
  "language_info": {
   "codemirror_mode": {
    "name": "ipython",
    "version": 3
   },
   "file_extension": ".py",
   "mimetype": "text/x-python",
   "name": "python",
   "nbconvert_exporter": "python",
   "pygments_lexer": "ipython3",
   "version": "3.8.3"
  }
 },
 "nbformat": 4,
 "nbformat_minor": 1
}
