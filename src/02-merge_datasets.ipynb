{
 "cells": [
  {
   "cell_type": "markdown",
   "metadata": {},
   "source": [
    "**@author** : Orhan Solak\n",
    "\n",
    "**@brief** : Merging scrapped data and removing duplicates"
   ]
  },
  {
   "cell_type": "code",
   "execution_count": null,
   "metadata": {
    "colab": {},
    "colab_type": "code",
    "id": "6NOu9X40PoUE"
   },
   "outputs": [],
   "source": [
    "import pandas as pd\n",
    "import numpy as np\n",
    "import time\n",
    "import random\n",
    "\n",
    "import matplotlib\n",
    "import matplotlib.pyplot as plt\n",
    "\n",
    "import sklearn\n",
    "from sklearn import cluster\n",
    "\n",
    "%matplotlib inline"
   ]
  },
  {
   "cell_type": "code",
   "execution_count": null,
   "metadata": {
    "colab": {},
    "colab_type": "code",
    "id": "00QTNxA4PoUJ"
   },
   "outputs": [],
   "source": [
    "df1 = pd.read_excel('../data/Data_01_07_Ocak.xlsx')\n",
    "df2 = pd.read_excel('../data/Data_01_08_Aralık.xlsx')\n",
    "df3 = pd.read_excel('../data/Data_01_30_Kasım.xlsx')\n",
    "df4 = pd.read_excel('../data/Data_08_15_Ocak.xlsx')\n",
    "df5 = pd.read_excel('../data/Data_10_17_Aralık.xlsx')\n",
    "df6 = pd.read_excel('../data/Data_16_23_Ocak.xlsx')\n",
    "df7 = pd.read_excel('../data/Data_19_26_Aralık.xlsx')\n",
    "df8 = pd.read_excel('../data/Data_23_30_Aralık.xlsx')\n",
    "df9 = pd.read_excel('../data/Data_23_30_Ocak.xlsx')"
   ]
  },
  {
   "cell_type": "code",
   "execution_count": null,
   "metadata": {
    "colab": {},
    "colab_type": "code",
    "id": "Ukf9Xn0HPoUN"
   },
   "outputs": [],
   "source": [
    "toplam_sayi = len(df1)+len(df2)+len(df3)+len(df4)+len(df5)+len(df6)+len(df7)+len(df8)+len(df9)"
   ]
  },
  {
   "cell_type": "code",
   "execution_count": null,
   "metadata": {
    "colab": {},
    "colab_type": "code",
    "id": "6V-MvHBSPoUQ",
    "outputId": "feeaecdc-d76e-45b0-98c2-2836b55f7280"
   },
   "outputs": [],
   "source": [
    "toplam_sayi"
   ]
  },
  {
   "cell_type": "code",
   "execution_count": null,
   "metadata": {
    "colab": {},
    "colab_type": "code",
    "id": "FG8iuFmUPoUU"
   },
   "outputs": [],
   "source": [
    "frames = [df1, df2, df3, df4, df5, df6, df7,df8,df9]\n",
    "main_df = pd.concat(frames)"
   ]
  },
  {
   "cell_type": "code",
   "execution_count": null,
   "metadata": {
    "colab": {},
    "colab_type": "code",
    "id": "HJWZs_O-PoUY",
    "outputId": "4c6a1c02-dbe0-4f40-ac21-f732d2bb5c7e"
   },
   "outputs": [],
   "source": [
    "len(main_df)"
   ]
  },
  {
   "cell_type": "code",
   "execution_count": null,
   "metadata": {
    "colab": {},
    "colab_type": "code",
    "id": "yFkUrdxIPoUc"
   },
   "outputs": [],
   "source": [
    "main_df = main_df.drop_duplicates()"
   ]
  },
  {
   "cell_type": "code",
   "execution_count": null,
   "metadata": {
    "colab": {},
    "colab_type": "code",
    "id": "hOtM14WzPoUg"
   },
   "outputs": [],
   "source": [
    "guncel_sayi = len(main_df)"
   ]
  },
  {
   "cell_type": "code",
   "execution_count": null,
   "metadata": {
    "colab": {},
    "colab_type": "code",
    "id": "FXOs6OGXPoUj",
    "outputId": "3b66ea2d-ed46-46c4-aa67-b8cd42c8b3e0"
   },
   "outputs": [],
   "source": [
    "guncel_sayi"
   ]
  },
  {
   "cell_type": "code",
   "execution_count": null,
   "metadata": {
    "colab": {},
    "colab_type": "code",
    "id": "iLezyFhdPoUm",
    "outputId": "00581084-b880-4f44-8d82-845fba0d1c0c"
   },
   "outputs": [],
   "source": [
    "print(\"Aynı olan \",toplam_sayi-guncel_sayi,\" Araba, Data'dan temizlenmiştir.\")"
   ]
  },
  {
   "cell_type": "code",
   "execution_count": null,
   "metadata": {
    "colab": {},
    "colab_type": "code",
    "id": "Q84xEU2FPoUp",
    "outputId": "f3bca6c4-84c6-4e32-a2e1-dcced998b376",
    "scrolled": true
   },
   "outputs": [],
   "source": [
    "main_df.head()"
   ]
  },
  {
   "cell_type": "code",
   "execution_count": null,
   "metadata": {
    "colab": {},
    "colab_type": "code",
    "id": "152U_Eq5PoUt",
    "outputId": "b72673f9-a0e9-4c7f-ef06-55886762f963"
   },
   "outputs": [],
   "source": [
    "'{:f}'.format(1e-7)"
   ]
  },
  {
   "cell_type": "code",
   "execution_count": null,
   "metadata": {
    "colab": {},
    "colab_type": "code",
    "id": "nX3o453aPoUw",
    "outputId": "446941bb-b936-46f8-9b52-8868923d2690"
   },
   "outputs": [],
   "source": [
    "main_df.columns"
   ]
  },
  {
   "cell_type": "code",
   "execution_count": null,
   "metadata": {},
   "outputs": [],
   "source": [
    "with pd.ExcelWriter('../data/data_merged.xlsx') as writer:\n",
    "    main_df.to_excel(writer)"
   ]
  }
 ],
 "metadata": {
  "colab": {
   "name": "Data_Birlestirme_Kodu.ipynb",
   "provenance": []
  },
  "kernelspec": {
   "display_name": "Python 3",
   "language": "python",
   "name": "python3"
  },
  "language_info": {
   "codemirror_mode": {
    "name": "ipython",
    "version": 3
   },
   "file_extension": ".py",
   "mimetype": "text/x-python",
   "name": "python",
   "nbconvert_exporter": "python",
   "pygments_lexer": "ipython3",
   "version": "3.8.3"
  }
 },
 "nbformat": 4,
 "nbformat_minor": 1
}
