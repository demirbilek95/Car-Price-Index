{
 "cells": [
  {
   "cell_type": "markdown",
   "metadata": {},
   "source": [
    "**@author** : Orhan Solak\n",
    "\n",
    "**@brief** : Merging scrapped data and removing duplicates"
   ]
  },
  {
   "cell_type": "code",
   "execution_count": 18,
   "metadata": {
    "colab": {},
    "colab_type": "code",
    "id": "6NOu9X40PoUE"
   },
   "outputs": [],
   "source": [
    "import pandas as pd\n",
    "import numpy as np\n",
    "import time\n",
    "import random\n",
    "\n",
    "import matplotlib\n",
    "import matplotlib.pyplot as plt\n",
    "\n",
    "import sklearn\n",
    "from sklearn import cluster\n",
    "\n",
    "%matplotlib inline"
   ]
  },
  {
   "cell_type": "code",
   "execution_count": 19,
   "metadata": {
    "colab": {},
    "colab_type": "code",
    "id": "00QTNxA4PoUJ"
   },
   "outputs": [],
   "source": [
    "df1 = pd.read_excel('../data/Data_01_07_Ocak.xlsx')\n",
    "df2 = pd.read_excel('../data/Data_01_08_Aralık.xlsx')\n",
    "df3 = pd.read_excel('../data/Data_01_30_Kasım.xlsx')\n",
    "df4 = pd.read_excel('../data/Data_08_15_Ocak.xlsx')\n",
    "df5 = pd.read_excel('../data/Data_10_17_Aralık.xlsx')\n",
    "df6 = pd.read_excel('../data/Data_16_23_Ocak.xlsx')\n",
    "df7 = pd.read_excel('../data/Data_19_26_Aralık.xlsx')\n",
    "df8 = pd.read_excel('../data/Data_23_30_Aralık.xlsx')\n",
    "df9 = pd.read_excel('../data/Data_23_30_Ocak.xlsx')"
   ]
  },
  {
   "cell_type": "code",
   "execution_count": 20,
   "metadata": {
    "colab": {},
    "colab_type": "code",
    "id": "Ukf9Xn0HPoUN"
   },
   "outputs": [],
   "source": [
    "toplam_sayi = len(df1)+len(df2)+len(df3)+len(df4)+len(df5)+len(df6)+len(df7)+len(df8)+len(df9)"
   ]
  },
  {
   "cell_type": "code",
   "execution_count": 21,
   "metadata": {
    "colab": {},
    "colab_type": "code",
    "id": "6V-MvHBSPoUQ",
    "outputId": "feeaecdc-d76e-45b0-98c2-2836b55f7280"
   },
   "outputs": [
    {
     "data": {
      "text/plain": [
       "264555"
      ]
     },
     "execution_count": 21,
     "metadata": {},
     "output_type": "execute_result"
    }
   ],
   "source": [
    "toplam_sayi"
   ]
  },
  {
   "cell_type": "code",
   "execution_count": 22,
   "metadata": {
    "colab": {},
    "colab_type": "code",
    "id": "FG8iuFmUPoUU"
   },
   "outputs": [],
   "source": [
    "frames = [df1, df2, df3, df4, df5, df6, df7,df8,df9]\n",
    "main_df = pd.concat(frames)"
   ]
  },
  {
   "cell_type": "code",
   "execution_count": 23,
   "metadata": {
    "colab": {},
    "colab_type": "code",
    "id": "HJWZs_O-PoUY",
    "outputId": "4c6a1c02-dbe0-4f40-ac21-f732d2bb5c7e"
   },
   "outputs": [
    {
     "data": {
      "text/plain": [
       "264555"
      ]
     },
     "execution_count": 23,
     "metadata": {},
     "output_type": "execute_result"
    }
   ],
   "source": [
    "len(main_df)"
   ]
  },
  {
   "cell_type": "code",
   "execution_count": 24,
   "metadata": {
    "colab": {},
    "colab_type": "code",
    "id": "yFkUrdxIPoUc"
   },
   "outputs": [],
   "source": [
    "main_df = main_df.drop_duplicates()"
   ]
  },
  {
   "cell_type": "code",
   "execution_count": 25,
   "metadata": {
    "colab": {},
    "colab_type": "code",
    "id": "hOtM14WzPoUg"
   },
   "outputs": [],
   "source": [
    "guncel_sayi = len(main_df)"
   ]
  },
  {
   "cell_type": "code",
   "execution_count": 26,
   "metadata": {
    "colab": {},
    "colab_type": "code",
    "id": "FXOs6OGXPoUj",
    "outputId": "3b66ea2d-ed46-46c4-aa67-b8cd42c8b3e0"
   },
   "outputs": [
    {
     "data": {
      "text/plain": [
       "264553"
      ]
     },
     "execution_count": 26,
     "metadata": {},
     "output_type": "execute_result"
    }
   ],
   "source": [
    "guncel_sayi"
   ]
  },
  {
   "cell_type": "code",
   "execution_count": 27,
   "metadata": {
    "colab": {},
    "colab_type": "code",
    "id": "iLezyFhdPoUm",
    "outputId": "00581084-b880-4f44-8d82-845fba0d1c0c"
   },
   "outputs": [
    {
     "name": "stdout",
     "output_type": "stream",
     "text": [
      "Aynı olan  2  Araba, Data'dan temizlenmiştir.\n"
     ]
    }
   ],
   "source": [
    "print(\"Aynı olan \",toplam_sayi-guncel_sayi,\" Araba, Data'dan temizlenmiştir.\")"
   ]
  },
  {
   "cell_type": "code",
   "execution_count": 28,
   "metadata": {
    "colab": {},
    "colab_type": "code",
    "id": "Q84xEU2FPoUp",
    "outputId": "f3bca6c4-84c6-4e32-a2e1-dcced998b376",
    "scrolled": true
   },
   "outputs": [
    {
     "data": {
      "text/html": [
       "<div>\n",
       "<style scoped>\n",
       "    .dataframe tbody tr th:only-of-type {\n",
       "        vertical-align: middle;\n",
       "    }\n",
       "\n",
       "    .dataframe tbody tr th {\n",
       "        vertical-align: top;\n",
       "    }\n",
       "\n",
       "    .dataframe thead th {\n",
       "        text-align: right;\n",
       "    }\n",
       "</style>\n",
       "<table border=\"1\" class=\"dataframe\">\n",
       "  <thead>\n",
       "    <tr style=\"text-align: right;\">\n",
       "      <th></th>\n",
       "      <th>Unnamed: 0</th>\n",
       "      <th>baslik</th>\n",
       "      <th>il</th>\n",
       "      <th>ilce</th>\n",
       "      <th>mahalle</th>\n",
       "      <th>fiyat</th>\n",
       "      <th>para_birimi</th>\n",
       "      <th>ilan_no</th>\n",
       "      <th>ilan_tarihi</th>\n",
       "      <th>marka</th>\n",
       "      <th>...</th>\n",
       "      <th>renk</th>\n",
       "      <th>garanti</th>\n",
       "      <th>plaka_uyruk</th>\n",
       "      <th>kimden</th>\n",
       "      <th>takas</th>\n",
       "      <th>durumu</th>\n",
       "      <th>telefon</th>\n",
       "      <th>ilan_sahibi</th>\n",
       "      <th>submodel1</th>\n",
       "      <th>submodel2</th>\n",
       "    </tr>\n",
       "  </thead>\n",
       "  <tbody>\n",
       "    <tr>\n",
       "      <th>0</th>\n",
       "      <td>0</td>\n",
       "      <td>KONYA GENÇLER OTOMOTİV,DEN HATASIZ ÇOK TEMİZ A...</td>\n",
       "      <td>Konya</td>\n",
       "      <td>Karatay</td>\n",
       "      <td>Fevziçakmak Mah.</td>\n",
       "      <td>72500.0</td>\n",
       "      <td>TL</td>\n",
       "      <td>515571139</td>\n",
       "      <td>31 Aralık 2017</td>\n",
       "      <td>Audi</td>\n",
       "      <td>...</td>\n",
       "      <td>Gri</td>\n",
       "      <td>Hayır</td>\n",
       "      <td>Türkiye (TR) Plakalı</td>\n",
       "      <td>Galeriden</td>\n",
       "      <td>Evet</td>\n",
       "      <td>İkinci El</td>\n",
       "      <td>İş 0 (332) 342 49 79 0 (332) *** ** 79 Cep 0 (...</td>\n",
       "      <td>KONYA GENÇLER OTOMOTİV|Mehmet Uzar</td>\n",
       "      <td>NaN</td>\n",
       "      <td>NaN</td>\n",
       "    </tr>\n",
       "    <tr>\n",
       "      <th>1</th>\n",
       "      <td>1</td>\n",
       "      <td>TOKAY AUTO'DAN 177 BG AUDİ A4</td>\n",
       "      <td>İzmir</td>\n",
       "      <td>Gaziemir</td>\n",
       "      <td>Gazi Mah.</td>\n",
       "      <td>117500.0</td>\n",
       "      <td>TL</td>\n",
       "      <td>415570628</td>\n",
       "      <td>31 Aralık 2017</td>\n",
       "      <td>Audi</td>\n",
       "      <td>...</td>\n",
       "      <td>Beyaz</td>\n",
       "      <td>Evet</td>\n",
       "      <td>Türkiye (TR) Plakalı</td>\n",
       "      <td>Galeriden</td>\n",
       "      <td>Evet</td>\n",
       "      <td>İkinci El</td>\n",
       "      <td>İş 0 (232) 282 11 17 0 (232) *** ** 17 Cep 0 (...</td>\n",
       "      <td>|ALİ PEZKET</td>\n",
       "      <td>NaN</td>\n",
       "      <td>NaN</td>\n",
       "    </tr>\n",
       "    <tr>\n",
       "      <th>2</th>\n",
       "      <td>2</td>\n",
       "      <td>AVANTAJLI 2014 AUDİ A6 3.0TDİ QUATTRO-ORJİNAL ...</td>\n",
       "      <td>İstanbul</td>\n",
       "      <td>Bahçelievler</td>\n",
       "      <td>Yenibosna Merkez Mah.</td>\n",
       "      <td>249500.0</td>\n",
       "      <td>TL</td>\n",
       "      <td>483277370</td>\n",
       "      <td>31 Aralık 2017</td>\n",
       "      <td>Audi</td>\n",
       "      <td>...</td>\n",
       "      <td>Siyah</td>\n",
       "      <td>Hayır</td>\n",
       "      <td>Türkiye (TR) Plakalı</td>\n",
       "      <td>Galeriden</td>\n",
       "      <td>Evet</td>\n",
       "      <td>İkinci El</td>\n",
       "      <td>İş 0 (212) 411 17 00 0 (212) *** ** 00 Cep 0 (...</td>\n",
       "      <td>Altur Turizm|Mehmet Karakuş</td>\n",
       "      <td>NaN</td>\n",
       "      <td>NaN</td>\n",
       "    </tr>\n",
       "    <tr>\n",
       "      <th>3</th>\n",
       "      <td>3</td>\n",
       "      <td>Doğuş çıkışlı Orijinal a4 160lık /led xenon far</td>\n",
       "      <td>Muğla</td>\n",
       "      <td>Marmaris</td>\n",
       "      <td>Armutalan Bld. (Merkez Mah.)</td>\n",
       "      <td>92500.0</td>\n",
       "      <td>TL</td>\n",
       "      <td>463504189</td>\n",
       "      <td>31 Aralık 2017</td>\n",
       "      <td>Audi</td>\n",
       "      <td>...</td>\n",
       "      <td>Siyah</td>\n",
       "      <td>Hayır</td>\n",
       "      <td>Türkiye (TR) Plakalı</td>\n",
       "      <td>Sahibinden</td>\n",
       "      <td>Hayır</td>\n",
       "      <td>İkinci El</td>\n",
       "      <td>Cep 0 (542) 295 57 21 0 (542) *** ** 21</td>\n",
       "      <td>|Hasan Uzun</td>\n",
       "      <td>NaN</td>\n",
       "      <td>NaN</td>\n",
       "    </tr>\n",
       "    <tr>\n",
       "      <th>4</th>\n",
       "      <td>4</td>\n",
       "      <td>Kışa Hazır Quattro A6</td>\n",
       "      <td>Afyonkarahisar</td>\n",
       "      <td>Emirdağ</td>\n",
       "      <td>Yeni Mah.</td>\n",
       "      <td>47000.0</td>\n",
       "      <td>TL</td>\n",
       "      <td>448086647</td>\n",
       "      <td>31 Aralık 2017</td>\n",
       "      <td>Audi</td>\n",
       "      <td>...</td>\n",
       "      <td>Gri</td>\n",
       "      <td>Hayır</td>\n",
       "      <td>Türkiye (TR) Plakalı</td>\n",
       "      <td>Sahibinden</td>\n",
       "      <td>Hayır</td>\n",
       "      <td>İkinci El</td>\n",
       "      <td>Ev 0 (272) 442 60 88 0 (272) *** ** 88 Cep 0 (...</td>\n",
       "      <td>|Muzaffer Gümüşel</td>\n",
       "      <td>NaN</td>\n",
       "      <td>NaN</td>\n",
       "    </tr>\n",
       "  </tbody>\n",
       "</table>\n",
       "<p>5 rows × 30 columns</p>\n",
       "</div>"
      ],
      "text/plain": [
       "   Unnamed: 0                                             baslik  \\\n",
       "0           0  KONYA GENÇLER OTOMOTİV,DEN HATASIZ ÇOK TEMİZ A...   \n",
       "1           1                      TOKAY AUTO'DAN 177 BG AUDİ A4   \n",
       "2           2  AVANTAJLI 2014 AUDİ A6 3.0TDİ QUATTRO-ORJİNAL ...   \n",
       "3           3    Doğuş çıkışlı Orijinal a4 160lık /led xenon far   \n",
       "4           4                              Kışa Hazır Quattro A6   \n",
       "\n",
       "               il          ilce                       mahalle     fiyat  \\\n",
       "0           Konya       Karatay              Fevziçakmak Mah.   72500.0   \n",
       "1           İzmir      Gaziemir                     Gazi Mah.  117500.0   \n",
       "2        İstanbul  Bahçelievler         Yenibosna Merkez Mah.  249500.0   \n",
       "3           Muğla      Marmaris  Armutalan Bld. (Merkez Mah.)   92500.0   \n",
       "4  Afyonkarahisar       Emirdağ                     Yeni Mah.   47000.0   \n",
       "\n",
       "  para_birimi    ilan_no     ilan_tarihi marka  ...   renk garanti  \\\n",
       "0          TL  515571139  31 Aralık 2017  Audi  ...    Gri   Hayır   \n",
       "1          TL  415570628  31 Aralık 2017  Audi  ...  Beyaz    Evet   \n",
       "2          TL  483277370  31 Aralık 2017  Audi  ...  Siyah   Hayır   \n",
       "3          TL  463504189  31 Aralık 2017  Audi  ...  Siyah   Hayır   \n",
       "4          TL  448086647  31 Aralık 2017  Audi  ...    Gri   Hayır   \n",
       "\n",
       "            plaka_uyruk      kimden   takas      durumu  \\\n",
       "0  Türkiye (TR) Plakalı   Galeriden   Evet   İkinci El    \n",
       "1  Türkiye (TR) Plakalı   Galeriden   Evet   İkinci El    \n",
       "2  Türkiye (TR) Plakalı   Galeriden   Evet   İkinci El    \n",
       "3  Türkiye (TR) Plakalı  Sahibinden  Hayır   İkinci El    \n",
       "4  Türkiye (TR) Plakalı  Sahibinden  Hayır   İkinci El    \n",
       "\n",
       "                                             telefon  \\\n",
       "0  İş 0 (332) 342 49 79 0 (332) *** ** 79 Cep 0 (...   \n",
       "1  İş 0 (232) 282 11 17 0 (232) *** ** 17 Cep 0 (...   \n",
       "2  İş 0 (212) 411 17 00 0 (212) *** ** 00 Cep 0 (...   \n",
       "3            Cep 0 (542) 295 57 21 0 (542) *** ** 21   \n",
       "4  Ev 0 (272) 442 60 88 0 (272) *** ** 88 Cep 0 (...   \n",
       "\n",
       "                          ilan_sahibi  submodel1 submodel2  \n",
       "0  KONYA GENÇLER OTOMOTİV|Mehmet Uzar        NaN       NaN  \n",
       "1                         |ALİ PEZKET        NaN       NaN  \n",
       "2         Altur Turizm|Mehmet Karakuş        NaN       NaN  \n",
       "3                         |Hasan Uzun        NaN       NaN  \n",
       "4                   |Muzaffer Gümüşel        NaN       NaN  \n",
       "\n",
       "[5 rows x 30 columns]"
      ]
     },
     "execution_count": 28,
     "metadata": {},
     "output_type": "execute_result"
    }
   ],
   "source": [
    "main_df.head()"
   ]
  },
  {
   "cell_type": "code",
   "execution_count": 29,
   "metadata": {
    "colab": {},
    "colab_type": "code",
    "id": "152U_Eq5PoUt",
    "outputId": "b72673f9-a0e9-4c7f-ef06-55886762f963"
   },
   "outputs": [
    {
     "data": {
      "text/plain": [
       "'0.000000'"
      ]
     },
     "execution_count": 29,
     "metadata": {},
     "output_type": "execute_result"
    }
   ],
   "source": [
    "'{:f}'.format(1e-7)"
   ]
  },
  {
   "cell_type": "code",
   "execution_count": 30,
   "metadata": {
    "colab": {},
    "colab_type": "code",
    "id": "nX3o453aPoUw",
    "outputId": "446941bb-b936-46f8-9b52-8868923d2690"
   },
   "outputs": [
    {
     "data": {
      "text/plain": [
       "Index(['Unnamed: 0', 'baslik', 'il', 'ilce', 'mahalle', 'fiyat', 'para_birimi',\n",
       "       'ilan_no', 'ilan_tarihi', 'marka', 'seri', 'model', 'yil', 'yakit',\n",
       "       'vites', 'km', 'kasa_tipi', 'motor_gucu_hp', 'motor_hacmi_cc', 'cekis',\n",
       "       'renk', 'garanti', 'plaka_uyruk', 'kimden', 'takas', 'durumu',\n",
       "       'telefon', 'ilan_sahibi', 'submodel1', 'submodel2'],\n",
       "      dtype='object')"
      ]
     },
     "execution_count": 30,
     "metadata": {},
     "output_type": "execute_result"
    }
   ],
   "source": [
    "main_df.columns"
   ]
  },
  {
   "cell_type": "code",
   "execution_count": 37,
   "metadata": {},
   "outputs": [],
   "source": [
    "with pd.ExcelWriter('../data/data_merged.xlsx') as writer:\n",
    "    main_df.to_excel(writer)"
   ]
  }
 ],
 "metadata": {
  "colab": {
   "name": "Data_Birlestirme_Kodu.ipynb",
   "provenance": []
  },
  "kernelspec": {
   "display_name": "Python 3",
   "language": "python",
   "name": "python3"
  },
  "language_info": {
   "codemirror_mode": {
    "name": "ipython",
    "version": 3
   },
   "file_extension": ".py",
   "mimetype": "text/x-python",
   "name": "python",
   "nbconvert_exporter": "python",
   "pygments_lexer": "ipython3",
   "version": "3.8.3"
  }
 },
 "nbformat": 4,
 "nbformat_minor": 1
}
