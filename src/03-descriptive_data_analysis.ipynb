{
 "cells": [
  {
   "cell_type": "markdown",
   "metadata": {},
   "source": [
    "**@author:** Dogan Can Demirbilek\n",
    "\n",
    "**@brief:** Descriptive analysis on merged dataset and removing the most obvious outliers or post errors"
   ]
  },
  {
   "cell_type": "code",
   "execution_count": null,
   "metadata": {},
   "outputs": [],
   "source": [
    "import numpy as np\n",
    "import pandas as pd\n",
    "%matplotlib inline\n",
    "import matplotlib.pyplot as plt\n",
    "import matplotlib.style as style\n",
    "import seaborn as sns"
   ]
  },
  {
   "cell_type": "code",
   "execution_count": null,
   "metadata": {
    "scrolled": true
   },
   "outputs": [],
   "source": [
    "data = pd.read_excel('../data/data_merged.xlsx')\n",
    "data.head(5)"
   ]
  },
  {
   "cell_type": "code",
   "execution_count": null,
   "metadata": {},
   "outputs": [],
   "source": [
    "data.columns"
   ]
  },
  {
   "cell_type": "code",
   "execution_count": null,
   "metadata": {},
   "outputs": [],
   "source": [
    "#silinecek kolonlar\n",
    "silinecekler_liste = ['Unnamed: 0','Unnamed: 0.1','baslik','ilce','mahalle','para_birimi','ilan_no','ilan_tarihi','telefon','ilan_sahibi']\n",
    "for i in silinecekler_liste:\n",
    "    del data[i]"
   ]
  },
  {
   "cell_type": "code",
   "execution_count": null,
   "metadata": {},
   "outputs": [],
   "source": [
    "#data describe kısmındaki e'li görünümleri düzeltmek için\n",
    "pd.options.display.float_format = \"{:.2f}\".format"
   ]
  },
  {
   "cell_type": "code",
   "execution_count": null,
   "metadata": {},
   "outputs": [],
   "source": [
    "data.describe()"
   ]
  },
  {
   "cell_type": "code",
   "execution_count": null,
   "metadata": {},
   "outputs": [],
   "source": [
    "data.info()"
   ]
  },
  {
   "cell_type": "code",
   "execution_count": null,
   "metadata": {},
   "outputs": [],
   "source": [
    "plt.figure(figsize= (10,8))\n",
    "plt.title('Price Distribution')\n",
    "plt.ylabel('Frequency')\n",
    "sns.distplot(data['fiyat'])\n",
    "plt.axis('tight')"
   ]
  },
  {
   "cell_type": "code",
   "execution_count": null,
   "metadata": {},
   "outputs": [],
   "source": [
    "plt.figure(figsize = (10,8))\n",
    "plt.title('Log Transformed Price Distribution')\n",
    "plt.ylabel('Frequency')\n",
    "sns.distplot(np.log1p(data['fiyat']))"
   ]
  },
  {
   "cell_type": "markdown",
   "metadata": {},
   "source": [
    "## Numerical Variables"
   ]
  },
  {
   "cell_type": "code",
   "execution_count": null,
   "metadata": {},
   "outputs": [],
   "source": [
    "#Üzerine biraz düşünülmesi gerek\n",
    "plt.figure(figsize = (12,6))\n",
    "plt.title('Correlation Matrix for Numeric Features')\n",
    "sns.heatmap(data.corr(), annot=True)"
   ]
  },
  {
   "cell_type": "code",
   "execution_count": null,
   "metadata": {},
   "outputs": [],
   "source": [
    "plt.figure()\n",
    "f ,axarr = plt.subplots(3,2,figsize = (16,16))\n",
    "fiyat = data.fiyat.values\n",
    "axarr[0,0].scatter(data.yil.values,fiyat)\n",
    "axarr[0,0].set_title('Fİyat & Yıl')\n",
    "axarr[0,0].set_xlabel('Yıl')\n",
    "axarr[0,0].set_ylabel('Fiyat')\n",
    "axarr[0,0].set(xlim = (1971,2017))\n",
    "axarr[0,0].set(ylim = (1555,2000000))\n",
    "axarr[0,1].scatter(data.km.values,fiyat)\n",
    "axarr[0,1].set_title('Fİyat & Kilometre')\n",
    "axarr[0,1].set_xlabel('Kilometre')\n",
    "axarr[0,1].set_ylabel('Fiyat')\n",
    "axarr[0,1].set(xlim = (0,3000000))\n",
    "axarr[0,1].set(ylim = (1555,2000000))\n",
    "axarr[1,0].scatter(data.yil,data.km)\n",
    "axarr[1,0].set_title('Yıl & Kilometre')\n",
    "axarr[1,0].set_xlabel('Yıl')\n",
    "axarr[1,0].set_ylabel('Kilometre')\n",
    "axarr[1,0].set(xlim = (1971,2017))\n",
    "axarr[1,0].set(ylim = (1555,2000000))\n",
    "axarr[1,1].scatter(data.motor_gucu_hp.values,fiyat)\n",
    "axarr[1,1].set_title('Fiyat & Motor Gücü')\n",
    "axarr[1,1].set_xlabel('Motor Gücü')\n",
    "axarr[1,1].set_ylabel('Fiyat')\n",
    "axarr[1,1].set(xlim = (39,669))\n",
    "axarr[1,1].set(ylim = (1555,2000000))\n",
    "axarr[2,0].scatter(data.motor_hacmi_cc.values,fiyat)\n",
    "axarr[2,0].set_title('Fiyat & Motor Hacmi')\n",
    "axarr[2,0].set_xlabel('Motor Hacmi')\n",
    "axarr[2,0].set_ylabel('Fiyat')\n",
    "axarr[2,0].set(xlim = (698,7011))\n",
    "axarr[2,0].set(ylim = (1555,2000000))\n",
    "axarr[2,1].scatter(data.motor_hacmi_cc,data.motor_gucu_hp)\n",
    "axarr[2,1].set_title('Motor Hacmi & Motor Gücü')\n",
    "axarr[2,1].set_xlabel('Motor Hacmi')\n",
    "axarr[2,1].set_ylabel('Motor Gücü')\n",
    "axarr[2,1].set(xlim = (698,7011),ylim = (39,669))"
   ]
  },
  {
   "cell_type": "markdown",
   "metadata": {},
   "source": [
    "## Categorical Features"
   ]
  },
  {
   "cell_type": "code",
   "execution_count": null,
   "metadata": {},
   "outputs": [],
   "source": [
    "print(data.select_dtypes(include=['object']).columns.values)"
   ]
  },
  {
   "cell_type": "markdown",
   "metadata": {},
   "source": [
    "**İl**"
   ]
  },
  {
   "cell_type": "code",
   "execution_count": null,
   "metadata": {
    "scrolled": false
   },
   "outputs": [],
   "source": [
    "iller_ort = data.groupby('il',as_index=False)['fiyat'].mean()\n",
    "print(iller_ort.sort_values(['fiyat'],ascending=False)[:10])\n",
    "iller_std = data.groupby('il')['fiyat'].std()\n",
    "print(\"\\n\\n\",iller_std.sort_values(ascending=False)[:10])"
   ]
  },
  {
   "cell_type": "markdown",
   "metadata": {},
   "source": [
    "* **Marka**"
   ]
  },
  {
   "cell_type": "code",
   "execution_count": null,
   "metadata": {},
   "outputs": [],
   "source": [
    "marka_ort = data.groupby('marka')['fiyat'].mean()\n",
    "print(marka_ort.sort_values(ascending=False))\n",
    "marka_std = data.groupby('marka')['fiyat'].std()\n",
    "print(\"\\n\\n\",marka_std.sort_values(ascending=False)[:10])"
   ]
  },
  {
   "cell_type": "code",
   "execution_count": null,
   "metadata": {},
   "outputs": [],
   "source": [
    "sns.set(font_scale = 1.50)\n",
    "plt.figure(figsize = (32,16))\n",
    "sns.boxplot(x = 'marka', y = 'fiyat', data = data)\n",
    "xt = plt.xticks(rotation=45)"
   ]
  },
  {
   "cell_type": "code",
   "execution_count": null,
   "metadata": {},
   "outputs": [],
   "source": [
    "plt.figure(figsize = (18,6))\n",
    "sns.countplot(x = 'marka',data = data)\n",
    "xt = plt.xticks(rotation=45)"
   ]
  },
  {
   "cell_type": "markdown",
   "metadata": {},
   "source": [
    "* **Yakıt**"
   ]
  },
  {
   "cell_type": "code",
   "execution_count": null,
   "metadata": {},
   "outputs": [],
   "source": [
    "yakıt_ort = data.groupby('yakit',as_index = False)['fiyat'].mean()\n",
    "yakıt_ort.sort_values(ascending=False,by=['fiyat'])"
   ]
  },
  {
   "cell_type": "code",
   "execution_count": null,
   "metadata": {},
   "outputs": [],
   "source": [
    "yakıt_std = data.groupby('yakit')['fiyat'].std()\n",
    "yakıt_std.sort_values(ascending=False)"
   ]
  },
  {
   "cell_type": "code",
   "execution_count": null,
   "metadata": {},
   "outputs": [],
   "source": [
    "sns.set(font_scale = 1)\n",
    "plt.figure(figsize = (16,10))\n",
    "sns.boxplot(x = 'yakit', y = 'fiyat', data = data)\n",
    "xt = plt.xticks(rotation=45)"
   ]
  },
  {
   "cell_type": "code",
   "execution_count": null,
   "metadata": {
    "scrolled": true
   },
   "outputs": [],
   "source": [
    "data[data[\"yakit\"]==\"Hybrid\"].sort_values(ascending=False,by=['fiyat'])"
   ]
  },
  {
   "cell_type": "code",
   "execution_count": null,
   "metadata": {},
   "outputs": [],
   "source": [
    "plt.figure(figsize = (12,6))\n",
    "sns.countplot(x = 'yakit',data = data)\n",
    "xt = plt.xticks(rotation=45)"
   ]
  },
  {
   "cell_type": "markdown",
   "metadata": {},
   "source": [
    "* **vites**"
   ]
  },
  {
   "cell_type": "code",
   "execution_count": null,
   "metadata": {},
   "outputs": [],
   "source": [
    "vites_ort = data.groupby('vites',as_index=False)['fiyat'].mean()\n",
    "vites_ort.sort_values(ascending=False,by=['fiyat'])"
   ]
  },
  {
   "cell_type": "code",
   "execution_count": null,
   "metadata": {},
   "outputs": [],
   "source": [
    "vites_std = data.groupby('vites')['fiyat'].std()\n",
    "vites_std.sort_values(ascending=False)"
   ]
  },
  {
   "cell_type": "code",
   "execution_count": null,
   "metadata": {},
   "outputs": [],
   "source": [
    "data[data['vites']=='Yarı Otomatik'].sort_values(ascending=False,by=['fiyat'])[:100]"
   ]
  },
  {
   "cell_type": "code",
   "execution_count": null,
   "metadata": {},
   "outputs": [],
   "source": [
    "sns.set(font_scale = 1)\n",
    "plt.figure(figsize = (16,10))\n",
    "sns.boxplot(x = 'vites', y = 'fiyat', data = data)\n",
    "xt = plt.xticks(rotation=45)"
   ]
  },
  {
   "cell_type": "code",
   "execution_count": null,
   "metadata": {},
   "outputs": [],
   "source": [
    "plt.figure(figsize = (12,6))\n",
    "sns.countplot(x = 'vites',data = data)\n",
    "xt = plt.xticks(rotation=45)"
   ]
  },
  {
   "cell_type": "markdown",
   "metadata": {},
   "source": [
    "* **Kasa Tipi**"
   ]
  },
  {
   "cell_type": "code",
   "execution_count": null,
   "metadata": {},
   "outputs": [],
   "source": [
    "data['kasa_tipi'].unique()"
   ]
  },
  {
   "cell_type": "code",
   "execution_count": null,
   "metadata": {},
   "outputs": [],
   "source": [
    "kasatip_ort = data.groupby('kasa_tipi',as_index=False)['fiyat'].mean()\n",
    "print(kasatip_ort.sort_values(['fiyat'],ascending=False))\n",
    "kasatip_std = data.groupby('kasa_tipi')['fiyat'].std()\n",
    "print(\"\\n\\n\",kasatip_std.sort_values(ascending=False))"
   ]
  },
  {
   "cell_type": "code",
   "execution_count": null,
   "metadata": {
    "scrolled": false
   },
   "outputs": [],
   "source": [
    "sns.set(font_scale = 1)\n",
    "plt.figure(figsize = (16,10))\n",
    "sns.boxplot(x = 'kasa_tipi', y = 'fiyat', data = data)\n",
    "xt = plt.xticks(rotation=45)"
   ]
  },
  {
   "cell_type": "code",
   "execution_count": null,
   "metadata": {},
   "outputs": [],
   "source": [
    "plt.figure(figsize = (12,6))\n",
    "sns.countplot(x = 'kasa_tipi',data = data)\n",
    "xt = plt.xticks(rotation=45)"
   ]
  },
  {
   "cell_type": "markdown",
   "metadata": {},
   "source": [
    "* **renk**"
   ]
  },
  {
   "cell_type": "code",
   "execution_count": null,
   "metadata": {},
   "outputs": [],
   "source": [
    "renk_ort = data.groupby('renk',as_index=False)['fiyat'].mean()\n",
    "renk_ort.sort_values(['fiyat'],ascending=False)"
   ]
  },
  {
   "cell_type": "code",
   "execution_count": null,
   "metadata": {},
   "outputs": [],
   "source": [
    "plt.figure(figsize = (12,6))\n",
    "sns.countplot(x = 'renk',data = data)\n",
    "xt = plt.xticks(rotation=45)"
   ]
  },
  {
   "cell_type": "markdown",
   "metadata": {},
   "source": [
    "* **Takas**"
   ]
  },
  {
   "cell_type": "code",
   "execution_count": null,
   "metadata": {},
   "outputs": [],
   "source": [
    "data['takas'].unique()"
   ]
  },
  {
   "cell_type": "code",
   "execution_count": null,
   "metadata": {},
   "outputs": [],
   "source": [
    "takas_ort = data.groupby('takas',as_index=False)['fiyat'].mean()\n",
    "takas_ort"
   ]
  },
  {
   "cell_type": "code",
   "execution_count": null,
   "metadata": {},
   "outputs": [],
   "source": [
    "#Evet ve hayırları 1 ve 0'lara dönüştürme kodu\n",
    "data.replace(to_replace='Evet\\xa0',value=1,inplace=True)\n",
    "data.replace(to_replace='Hayır\\xa0',value=0,inplace=True)"
   ]
  },
  {
   "cell_type": "code",
   "execution_count": null,
   "metadata": {
    "scrolled": true
   },
   "outputs": [],
   "source": [
    "data['takas']"
   ]
  },
  {
   "cell_type": "code",
   "execution_count": null,
   "metadata": {},
   "outputs": [],
   "source": [
    "print(data.select_dtypes(include=['object']).columns.values)"
   ]
  },
  {
   "cell_type": "code",
   "execution_count": null,
   "metadata": {},
   "outputs": [],
   "source": [
    "data['garanti'].unique()"
   ]
  },
  {
   "cell_type": "code",
   "execution_count": null,
   "metadata": {},
   "outputs": [],
   "source": [
    "garanti_ort = data.groupby('garanti',as_index=False)['fiyat'].mean()\n",
    "garanti_ort"
   ]
  },
  {
   "cell_type": "code",
   "execution_count": null,
   "metadata": {
    "scrolled": true
   },
   "outputs": [],
   "source": [
    "data.replace(to_replace='Evet',value=1,inplace=True)\n",
    "data.replace(to_replace='Hayır',value=0,inplace=True)\n",
    "data['garanti']"
   ]
  },
  {
   "cell_type": "code",
   "execution_count": null,
   "metadata": {},
   "outputs": [],
   "source": [
    "data['plaka_uyruk'].unique()"
   ]
  },
  {
   "cell_type": "code",
   "execution_count": null,
   "metadata": {},
   "outputs": [],
   "source": [
    "data['kimden'].unique()"
   ]
  },
  {
   "cell_type": "code",
   "execution_count": null,
   "metadata": {},
   "outputs": [],
   "source": [
    "data['durumu'].unique()"
   ]
  },
  {
   "cell_type": "code",
   "execution_count": null,
   "metadata": {},
   "outputs": [],
   "source": [
    "# removing potential outliers\n",
    "data = data[(data.yil > 1990) & (data.yil < 2020)]\n",
    "data = data[(data.motor_gucu_hp > 50) & (data.motor_gucu_hp < 500)]\n",
    "data = data[(data.km < 700000)]"
   ]
  },
  {
   "cell_type": "code",
   "execution_count": null,
   "metadata": {},
   "outputs": [],
   "source": [
    "with pd.ExcelWriter('../data/data_merged_filtered.xlsx') as writer:\n",
    "    data.to_excel(writer)"
   ]
  }
 ],
 "metadata": {
  "kernelspec": {
   "display_name": "Python 3",
   "language": "python",
   "name": "python3"
  },
  "language_info": {
   "codemirror_mode": {
    "name": "ipython",
    "version": 3
   },
   "file_extension": ".py",
   "mimetype": "text/x-python",
   "name": "python",
   "nbconvert_exporter": "python",
   "pygments_lexer": "ipython3",
   "version": "3.8.3"
  }
 },
 "nbformat": 4,
 "nbformat_minor": 2
}
